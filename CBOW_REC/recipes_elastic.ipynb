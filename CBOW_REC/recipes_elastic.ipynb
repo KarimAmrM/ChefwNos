{
 "cells": [
  {
   "cell_type": "code",
   "execution_count": 2,
   "metadata": {},
   "outputs": [
    {
     "name": "stderr",
     "output_type": "stream",
     "text": [
      "c:\\Users\\Fastora\\AppData\\Local\\Programs\\Python\\Python39\\lib\\site-packages\\numpy\\_distributor_init.py:30: UserWarning: loaded more than 1 DLL from .libs:\n",
      "c:\\Users\\Fastora\\AppData\\Local\\Programs\\Python\\Python39\\lib\\site-packages\\numpy\\.libs\\libopenblas.FB5AE2TYXYH2IJRDKGDGQ3XBKLKTF43H.gfortran-win_amd64.dll\n",
      "c:\\Users\\Fastora\\AppData\\Local\\Programs\\Python\\Python39\\lib\\site-packages\\numpy\\.libs\\libopenblas64__v0.3.21-gcc_10_3_0.dll\n",
      "  warnings.warn(\"loaded more than 1 DLL from .libs:\"\n"
     ]
    },
    {
     "data": {
      "text/plain": [
       "{'name': 'instance-0000000001',\n",
       " 'cluster_name': 'ff097923828f47a69856fc863b3dcaa3',\n",
       " 'cluster_uuid': 'pxX7iuB_TNOB7WKUuYai4A',\n",
       " 'version': {'number': '8.8.0',\n",
       "  'build_flavor': 'default',\n",
       "  'build_type': 'docker',\n",
       "  'build_hash': 'c01029875a091076ed42cdb3a41c10b1a9a5a20f',\n",
       "  'build_date': '2023-05-23T17:16:07.179039820Z',\n",
       "  'build_snapshot': False,\n",
       "  'lucene_version': '9.6.0',\n",
       "  'minimum_wire_compatibility_version': '7.17.0',\n",
       "  'minimum_index_compatibility_version': '7.0.0'},\n",
       " 'tagline': 'You Know, for Search'}"
      ]
     },
     "execution_count": 2,
     "metadata": {},
     "output_type": "execute_result"
    }
   ],
   "source": [
    "from elasticsearch import Elasticsearch\n",
    "from elasticsearch_dsl import Search, Q\n",
    "import pandas as pd\n",
    "# Create the client instance\n",
    "# client = Elasticsearch(\"http://localhost:9200\")\n",
    "\n",
    "# # Successful response!\n",
    "# client.info()\n",
    "\n",
    "ELASTIC_PASSWORD = \"nqWXecniTzykQWUfZpxPliLq\"\n",
    "\n",
    "# Found in the 'Manage Deployment' page\n",
    "CLOUD_ID = \"Recipes-chefWnos:ZXVyb3BlLXdlc3QzLmdjcC5jbG91ZC5lcy5pbzo0NDMkZmYwOTc5MjM4MjhmNDdhNjk4NTZmYzg2M2IzZGNhYTMkNzMwZmZkOGRjZDgxNDRhYzkwMDI1NzM0OTA0ZTM0ZGQ=\"\n",
    "\n",
    "# Create the client instance\n",
    "client = Elasticsearch(\n",
    "    cloud_id=CLOUD_ID,\n",
    "    http_auth=(\"elastic\", ELASTIC_PASSWORD)\n",
    ")\n",
    "\n",
    "# Successful response!\n",
    "client.info()"
   ]
  },
  {
   "cell_type": "code",
   "execution_count": 3,
   "metadata": {},
   "outputs": [],
   "source": [
    "recipes = pd.read_json('data/recipes_cleaned_2.json')"
   ]
  },
  {
   "cell_type": "code",
   "execution_count": 4,
   "metadata": {},
   "outputs": [],
   "source": [
    "for i, data in recipes.iterrows():\n",
    "    ing = []\n",
    "    for j in data['ingredients']:\n",
    "        ing.append(j['ingredient'])\n",
    "    data['ingredients'] = ing\n"
   ]
  },
  {
   "cell_type": "code",
   "execution_count": 4,
   "metadata": {},
   "outputs": [
    {
     "name": "stdout",
     "output_type": "stream",
     "text": [
      "<class 'pandas.core.frame.DataFrame'>\n",
      "RangeIndex: 14273 entries, 0 to 14272\n",
      "Data columns (total 8 columns):\n",
      " #   Column       Non-Null Count  Dtype \n",
      "---  ------       --------------  ----- \n",
      " 0   name         14273 non-null  object\n",
      " 1   ingredients  14273 non-null  object\n",
      " 2   steps        14273 non-null  object\n",
      " 3   description  14273 non-null  object\n",
      " 4   time         14273 non-null  object\n",
      " 5   tags         14273 non-null  object\n",
      " 6   cuisine      14273 non-null  object\n",
      " 7   img          10788 non-null  object\n",
      "dtypes: object(8)\n",
      "memory usage: 892.2+ KB\n"
     ]
    }
   ],
   "source": [
    "recipes.info()"
   ]
  },
  {
   "cell_type": "code",
   "execution_count": 5,
   "metadata": {},
   "outputs": [
    {
     "name": "stderr",
     "output_type": "stream",
     "text": [
      "C:\\Users\\Fastora\\AppData\\Local\\Temp\\ipykernel_8900\\4178635385.py:3: DeprecationWarning: Using positional arguments for APIs is deprecated and will be disabled in 8.0.0. Instead use only keyword arguments for all APIs. See https://github.com/elastic/elasticsearch-py/issues/1698 for more information\n",
      "  if client.indices.exists(index_name):\n",
      "C:\\Users\\Fastora\\AppData\\Local\\Temp\\ipykernel_8900\\4178635385.py:57: DeprecationWarning: The 'body' parameter is deprecated for the 'create' API and will be removed in a future version. Instead use API parameters directly. See https://github.com/elastic/elasticsearch-py/issues/1698 for more information\n",
      "  create_index_response = client.indices.create(index=index_name, body=index_settings)\n"
     ]
    },
    {
     "name": "stdout",
     "output_type": "stream",
     "text": [
      "{'acknowledged': True, 'shards_acknowledged': True, 'index': 'recipes'}\n"
     ]
    }
   ],
   "source": [
    "def create_index(client, index_name):\n",
    "    # Define the index settings and mappings\n",
    "    if client.indices.exists(index_name):\n",
    "        pass\n",
    "    index_settings = {\n",
    "        \"settings\": {\n",
    "            \"analysis\": {\n",
    "                \"filter\": {\n",
    "                    \"arabic_stemmer\": {\n",
    "                        \"type\": \"stemmer\",\n",
    "                        \"language\": \"arabic\"\n",
    "                    },\n",
    "                    \"arabic_stop\": {\n",
    "                        \"type\": \"stop\",\n",
    "                        \"stopwords\": \"_arabic_\"\n",
    "                    }\n",
    "                },\n",
    "                \"analyzer\": {\n",
    "                    \"rebuilt_arabic\": {\n",
    "                        \"type\": \"custom\",\n",
    "                        \"tokenizer\": \"standard\",\n",
    "                        \"filter\": [\"lowercase\", \"decimal_digit\", \"arabic_stop\", \"arabic_normalization\", \"arabic_stemmer\"]\n",
    "                    }\n",
    "                }\n",
    "            }\n",
    "        },\n",
    "        \"mappings\": {\n",
    "            \"properties\": {\n",
    "                \"Id\": {\n",
    "                    \"type\": \"long\"\n",
    "                },\n",
    "                \"name\": {\n",
    "                    \"type\": \"text\",\n",
    "                    \"analyzer\": \"rebuilt_arabic\",\n",
    "                    \"search_analyzer\": \"rebuilt_arabic\"\n",
    "                },\n",
    "                \"ingredients\": {\n",
    "                    \"type\": \"text\",\n",
    "                    \"analyzer\": \"rebuilt_arabic\",\n",
    "                    \"search_analyzer\": \"rebuilt_arabic\"\n",
    "                },\n",
    "                \"steps\": {\n",
    "                    \"type\": \"text\",\n",
    "                    \"analyzer\": \"rebuilt_arabic\",\n",
    "                    \"search_analyzer\": \"rebuilt_arabic\"\n",
    "                },\n",
    "                \"tags\": {\n",
    "                    \"type\": \"text\",\n",
    "                    \"analyzer\": \"rebuilt_arabic\",\n",
    "                    \"search_analyzer\": \"rebuilt_arabic\"\n",
    "                }\n",
    "            }\n",
    "        }\n",
    "    }\n",
    "\n",
    "    # Create the index with the specified settings and mappings\n",
    "    create_index_response = client.indices.create(index=index_name, body=index_settings)\n",
    "    return create_index_response\n",
    "# Call the function to create the index\n",
    "response = create_index(client=client, index_name=\"recipes\")\n",
    "print(response)"
   ]
  },
  {
   "cell_type": "code",
   "execution_count": 6,
   "metadata": {},
   "outputs": [],
   "source": [
    "def get_recipe_by_id(client, index_name, id):\n",
    "    search = Search(using=client, index=index_name).query(\"match\", Id=id)\n",
    "    response = search.execute()\n",
    "    if response:\n",
    "        return response[0].to_dict()\n",
    "    else:\n",
    "        return None"
   ]
  },
  {
   "cell_type": "code",
   "execution_count": 7,
   "metadata": {},
   "outputs": [],
   "source": [
    "get_recipe_by_id(client, \"recipes\", 1)"
   ]
  },
  {
   "cell_type": "code",
   "execution_count": 8,
   "metadata": {},
   "outputs": [],
   "source": [
    "df_recipes = recipes\n",
    "#join ingredients list to one string\n",
    "df_recipes['ingredients'] = df_recipes['ingredients'].apply(lambda x: ' '.join(x))\n",
    "#join tags list to one string\n",
    "df_recipes['tags'] = df_recipes['tags'].apply(lambda x: ' '.join(x))\n",
    "#join steps list to one string\n",
    "df_recipes['steps'] = df_recipes['steps'].apply(lambda x: ' '.join(x))\n"
   ]
  },
  {
   "cell_type": "code",
   "execution_count": 5,
   "metadata": {},
   "outputs": [],
   "source": [
    "recipes['Id'] = recipes.index\n"
   ]
  },
  {
   "cell_type": "code",
   "execution_count": 8,
   "metadata": {},
   "outputs": [
    {
     "data": {
      "text/plain": [
       "name                                             مكرونة بالجمبري\n",
       "ingredients    [الجمبري, معكرونة, البروكولي, زيت الزيتون, ملح...\n",
       "steps          [حمى الفرن على درجة حرارة 200 مئوية., تبلي الج...\n",
       "description                                     مكرونة بالجمبري \n",
       "time                                                   30 دقيقة \n",
       "tags           [المكرونة, مأكولات بحرية, مكرونة, طبخات الجمبر...\n",
       "cuisine                                                    غربي \n",
       "img            https://kitchen.sayidaty.net/uploads/small/17/...\n",
       "Id                                                          8841\n",
       "Name: 8841, dtype: object"
      ]
     },
     "execution_count": 8,
     "metadata": {},
     "output_type": "execute_result"
    }
   ],
   "source": [
    "#get recipe of id 8841\n",
    "recipes.loc[8841]"
   ]
  },
  {
   "cell_type": "code",
   "execution_count": 10,
   "metadata": {},
   "outputs": [],
   "source": [
    "def add_recipes(client, index, recipes):\n",
    "    #add to recipes id column from its index\n",
    "    recipes['Id'] = recipes.index\n",
    "    # Convert the dataframe to a dictionary\n",
    "    recipes_dict = recipes.to_dict(\"records\")\n",
    "    for recipe in recipes_dict:\n",
    "        # Index the dictionary of each recipe into Elasticsearch\n",
    "        resp = client.index(index=index, document=recipe)\n",
    "        if resp['result'] != 'created':\n",
    "            print(resp)\n"
   ]
  },
  {
   "cell_type": "code",
   "execution_count": 12,
   "metadata": {},
   "outputs": [],
   "source": [
    "add_recipes(client, 'recipes', df_recipes)"
   ]
  },
  {
   "cell_type": "code",
   "execution_count": 11,
   "metadata": {},
   "outputs": [],
   "source": [
    "def search_by_ingredients(ingredients_query, client, index):\n",
    "    # Define the search query\n",
    "    search_query = Q(\n",
    "        \"multi_match\",\n",
    "        fields=[\"ingredients^2\", \"name^2\", \"steps\"],\n",
    "        query=ingredients_query,\n",
    "        fuzziness=\"AUTO\"\n",
    "    )\n",
    "\n",
    "    # Create a search object\n",
    "    search = client.search(index=index, body={\"query\": search_query.to_dict()})\n",
    "\n",
    "    ids = []\n",
    "    for hit in search[\"hits\"][\"hits\"]:\n",
    "        ids.append(hit['_source']['Id'])\n",
    "        \n",
    "    return search[\"hits\"][\"hits\"], ids"
   ]
  },
  {
   "cell_type": "code",
   "execution_count": 13,
   "metadata": {},
   "outputs": [
    {
     "name": "stderr",
     "output_type": "stream",
     "text": [
      "C:\\Users\\Fastora\\AppData\\Local\\Temp\\ipykernel_8900\\3548199306.py:11: DeprecationWarning: The 'body' parameter is deprecated for the 'search' API and will be removed in a future version. Instead use API parameters directly. See https://github.com/elastic/elasticsearch-py/issues/1698 for more information\n",
      "  search = client.search(index=index, body={\"query\": search_query.to_dict()})\n"
     ]
    },
    {
     "name": "stdout",
     "output_type": "stream",
     "text": [
      "([{'_index': 'recipes', '_id': 'jwDvh4gBtjLtA0NXU84u', '_score': 18.75136, '_source': {'name': 'الرز الأصفر بالبصل..', 'ingredients': 'الأرز مرق دجاج ملح البصل الكركم الزيت النباتي الفلفل الأخضر بهارات', 'steps': '1. يسكب الزيت في قدر توضع على نار هادئة، ويضاف له البصل المفروم، ويقلب لدقيقتين، فالأرز الذي يقلب أيضاً لدقيقتين، ثم ينثر الكركم والملح ويوضع مرق الدجاج والبهار. 2. يقلب هذا المزيج، وتغطى القدر، مع التقليب كلّ 5 دقائق حتى يجف الماء تماماً وينضج الأرز. 3. ثم، يضاف بعض الزيت في قدر نظيفة، ويقلى الفلفل الأخضر الحلو حتى يذبل، ثم يخلط بالأرز. 4. \\xa0يمكن تزيين هذا الطبق بأوراق البصل الأخصر المقطعة.', 'description': '\\n                        ', 'time': '0 دقيقة ', 'tags': 'أطباق الأرز وصفات الأرز أطباق رمضانية', 'cuisine': ' عربي ', 'img': None, 'Id': 3803}}, {'_index': 'recipes', '_id': 'BgDth4gBtjLtA0NXE8oX', '_score': 15.860619, '_source': {'name': 'بطاطس مقلية مع البصل', 'ingredients': 'البطاطس البصل الزبدة زيت الزيتون بودرة الثوم أعشاب مجففة ملح فلفل أسود', 'steps': '1.\\xa0 سخني الزبدة مع زيت الزيتون في مقلاة واسعة على نار متوسطة. 2. أ ضيفي شرائح البطاطس والبصل وغطي المقلاة واتركيها لمدة 10 دقائق حتى تتحمر ثم اقلبيها على الجهة الأخرى لتتحمر من جميع الجهات. 3.\\xa0 وزعي الثوم البودرة والأعشاب والملح والفلفل الأسود وحركي المزيج حتى تختلط المكونات واتركيها على النار لمدة 5 دقائق إضافية. 4.\\xa0 قدميها ساخنة إلى جانب السلطة حسب الرغبة. سيعجبك أيضاً:', 'description': 'بطاطس مقلية مع البصل .. تعد ', 'time': '30 دقيقة ', 'tags': 'وصفات بالزبدة أطباق البطاطس مقبلات ساخنة وصفات البطاطا', 'cuisine': ' غربي ', 'img': 'https://kitchen.sayidaty.net/uploads/small/79/79f032194cf8de7545dcae73fa5de72c_w750_h500.jpg', 'Id': 2642}}, {'_index': 'recipes', '_id': 'LQD3h4gBtjLtA0NXKdp0', '_score': 15.860619, '_source': {'name': 'بصل مشوي بالبطاطس', 'ingredients': 'المايونيز جبن البارميزان الثوم شطة مجروشة بابريكا ملح فلفل أسود البطاطس البصل الزيت النباتي', 'steps': 'سخني شواية الفرن على حرارة متوسطة. بطني صينية بورق الالمنيوم وادهنيها بالزيت النباتي. اخلطي المايونيز مع الجبن البارميزان والثوم والشطة المجروشة والبابريكا والملح والفلفل الأسود في طبق. ضعي البطاطس في الصينية والبصل وأضيفي خليط المايونيز والتوابل وقلبي حتى تمتزج المكونات. أدخلي الصينية للفرن لمدة 30 دقيقة حتى تتحمر البطاطس وتنضج مع البصل. قدميها ساخنة إلى جانب اللحم أو الدجاج المشوي حسب الرغبة.', 'description': 'بصل مشوي بالبطاطس .. نقدم لك من مطبخ سيدتي أطيب ', 'time': '30 دقيقة ', 'tags': 'أطباق البطاطس أطباق جانبية وصفات البطاطا صينية خضار جبنة بارميزان خضار وصفات بالثوم', 'cuisine': ' عربي ', 'img': 'https://kitchen.sayidaty.net/uploads/small/1e/1e918b336c23225290a2e8da63490ab3_w750_h500.png', 'Id': 6776}}, {'_index': 'recipes', '_id': 'mQAAiIgBtjLtA0NXeuv4', '_score': 15.860619, '_source': {'name': 'شوربة البطاطس بالبصل', 'ingredients': 'البطاطس الجزر البصل الأخضر مرق دجاج الزبدة ملح فلفل أسود الكمون الماء', 'steps': 'ضعي البطاطس والجزر في الخلاط مع نصف كوب من المرق، واخلطي جيداً حتى يصبح ناعم القوام. في مقلاة على نار متوسطة بها الزبدة، ضعي البصل الأخضر وتبليه بالملح، والفلفل الأسود، والكمون، وقلبيه حتى يذبل. أضيفي خليط البطاطس والجزر، وقلبي جيداً وخففي النار حتى تغلي. أضيفي بعض الماء لجعل قوامها أخف. اسكبي الشوربة في صحن التقديم، وزينيها بقطع من الجزر والبصل الأخضر، وقدميها ساخنة.', 'description': 'شوربة البطاطس بالبصل ... قدمي على سفرتك وصفات ', 'time': '40 دقيقة ', 'tags': 'أطباق جانبية مقبلات ساخنة وصفات سريعة شوربة البطاطس وصفات سهلة وسريعة', 'cuisine': ' عربي ', 'img': 'https://kitchen.sayidaty.net/uploads/small/8f/8f24584f4f40d26fcb9c80a4ad9684dd_w750_h500.jpg', 'Id': 11234}}, {'_index': 'recipes', '_id': 'GwD7h4gBtjLtA0NXyeCw', '_score': 15.860619, '_source': {'name': 'بطاطس حلقات بالبصل', 'ingredients': 'الزيت النباتي البصل البطاطس ملح فلفل أسود الفلفل الاحمر الحار بهارات مشكلة', 'steps': 'في قدر على حرارة متوسطة، سخّني الزيت ثمّ أضيفي شرائح البطاطس، وقلّبي البطاطس حتى تتحمّر. أضيفي البصل وقلّبي المكونات حتى تتداخل، ونكّهي بالملح، الفلفل الأسود، الفلفل الأحمر الحار والبهارات العربية المشكلة. \\xa0ضعي الغطاء وخفّفي النار، واطهي المكونات حتى تنضج بالكامل. \\xa0قدّمي الطبق ساخناً.', 'description': 'بطاطس حلقات بالبصل ... قدمي على سفرتك ', 'time': '30 دقيقة ', 'tags': 'أطباق البطاطس أطباق جانبية مقبلات ساخنة وصفات البطاطا وصفات سريعة اكلات سريعة وصفات سهلة وسريعة وجبات سريعة', 'cuisine': ' عربي ', 'img': 'https://kitchen.sayidaty.net/uploads/small/a7/a7ea40261300dfa776188fffffb0c626_w750_h500.jpg', 'Id': 8294}}, {'_index': 'recipes', '_id': 'XQAEiIgBtjLtA0NXDPSd', '_score': 15.65156, '_source': {'name': 'الرز البخاري الأصلي', 'ingredients': 'اللحم الأرز طويل الحبة البصل طماطم الجزر صلصة طماطم الكمون هيل ملح فلفل أسود الزيت النباتي مكسرات محمصة ماء ساخن زبيب', 'steps': 'انقعي الأرز لمدة 30 دقيقة واغسليه ثم صفيه. أضيفي الزيت النباتي ثم البصل في قدر على النار واقليه حتى يذبل. قومي بإضافة اللحم وقلبيه مع البصل. أضيفي الطماطم المفرومة والجزر وصلصة الطماطم وبهريها بالبهارات والملح وغطي القدر حتى تتسبك المكونات. أضيفي الأرز والماء الساخن على خليط اللحم وحركي بلطف حتى تختلط المكونات مع بعضها واتركيه حتى يغلي ثم خففي درجة الحرارة واتركيه على نار هائة حتى ينضج. قومي بسكب الرز البخاري بطبق التقديم وزينيه بالمكسرات المحمصة والزبيب وقدميه ساخناً بجانب طبق من سلطة الزبادي.', 'description': 'الرز البخاري الأصلي ... ', 'time': '60 دقيقة ', 'tags': 'الأرز البسمتي أطباق الأرز طبخات سعودية وصفات الأرز وصفات سعودية وصفات رمضان المطبخ السعودي سفرة رمضان أكلات سعودية وصفات رمضانية 2022 فطور رمضان 2022 إفطار رمضان 2022 أكلات رمضانية سهلة 2022 أكلات رمضانية جديدة 2022 طبخات رمضان 2022', 'cuisine': ' سعودي ', 'img': 'https://kitchen.sayidaty.net/uploads/small/85/85ac2e370b571b25df48a26fcf3da6c8_w750_h500.jpg', 'Id': 13478}}, {'_index': 'recipes', '_id': 'IwD4h4gBtjLtA0NXIdt6', '_score': 14.218735, '_source': {'name': 'رز باللحمة والبطاطس والعدس', 'ingredients': 'الزبدة فيليه اللحم ملح فلفل أسود ورق غار عدس بنّي البصل البطاطس الأرز هيل', 'steps': 'سخني الزبدة في قدر على نار متوسطة وأضيفي مكعبات اللحم وقلبي جيداً ثم أضيفي البصل المفروم ناعم والهيل والملح والفلفل وورق الغار واغمري القدر بالماء واتركيه حتى يغلي ثم خففي النار وغطي القدر واتركي اللحم لمدة 45 دقيقة حتى ينضج. صفي المرق وضعي اللحم في قدر آخر وأضيفي العدس المسلوق والبطاطس والأرز وقلبي قليلاً ثم أضيفي حوالي 2 ½ كوب من المرق. اضبطي الملح والفلفل واتركي المزيج حتى يغلي ثم خففي النار وغطي القدر واتركيه على نار خفيفة لمدة 30 دقيقة حتى ينضج الأرز والبطاطس. ضعي الأرز في طبق التقديم وقدميه ساخناً.', 'description': 'رز باللحمة والبطاطس والعدس .. نقدم لك من مطبخ سيدتي أطيب ', 'time': '60 دقيقة ', 'tags': 'طبخات العدس أطباق الأرز أطباق البطاطس طبخات اللحوم وصفات الأرز وصفات البطاطا وصفات اللحوم وصفات رمضان وصفات رمضانية سهلة رمضان 2020 طبخات رمضان 2020', 'cuisine': ' عربي ', 'img': 'https://kitchen.sayidaty.net/uploads/node/1588607466_node.jpg', 'Id': 7022}}, {'_index': 'recipes', '_id': 'ugDxh4gBtjLtA0NXWdFk', '_score': 14.083267, '_source': {'name': 'بطاطس بالتوم والبصل الأخضر', 'ingredients': 'البطاطس الثوم الزبدة ملح كريمة الطبخ البصل الأخضر الزيت النباتي', 'steps': '', 'description': 'بالتوم والبصل الأخضر .. طبق ', 'time': '0 دقيقة ', 'tags': 'أطباق البطاطس أطباق جانبية مقبلات شامية وصفات البطاطا وصفات سريعة', 'cuisine': ' عربي ', 'img': None, 'Id': 4614}}, {'_index': 'recipes', '_id': 'awD9h4gBtjLtA0NXHePm', '_score': 14.083267, '_source': {'name': 'شوربة البطاطس والبصل الأخضر', 'ingredients': 'البطاطس الجزر البصل الأخضر مرق دجاج مرق دجاج الزبدة ملح فلفل أسود الكمون', 'steps': 'توضع البطاطس، والجزر في الخلاط الكهربائي مع نصف كوب من المرق، وتخلط جيداً حتى يصبح ناعم القوام. في مقلاة على نار متوسطة بها الزبدة، يوضع البصل الأخضر، ويتبل بالملح، والفلفل الأسود، والكمون، ويقلب حتى يذبل. يضاف إليه خليط البطاطس والجزر، وتقلب جيداً، وتخفف النار حتى تغلي. يمكن إضافة بعض الماء لجعل قوامها أخف. توضع في صحن التقديم، وتزين بقطع الجزر، والبصل الأخضر. تقدم ساخنة.', 'description': 'شوربة البطاطس والبصل الأخضر ... وصفة جديدة من ', 'time': '30 دقيقة ', 'tags': 'وصفات بالجزر أطباق جانبية مقبلات ساخنة وصفات سريعة شوربة البطاطس وصفات سهلة وسريعة', 'cuisine': ' غربي ', 'img': 'https://kitchen.sayidaty.net/uploads/small/92/921f19b06933b99621d70c0ffd00cf83_w750_h500.jpg', 'Id': 9142}}, {'_index': 'recipes', '_id': '-gD9h4gBtjLtA0NXWOMX', '_score': 14.083267, '_source': {'name': 'دجاج مشوي بالبطاطس والبصل', 'ingredients': 'الدجاج زبادي الكركم بهار دجاج فلفل أسود بودرة الثوم الزبدة زيت الزيتون البطاطس البصل', 'steps': 'امزجي الزبادي مع بودرة الثوم والملح والفلفل والزيت في طبق. افركي الدجاجة جيداً من الداخل والخارج بالزبدة وبهارات الدجاج والكركم وعصير الليمون. ضعي الدجاجة بخليط اللبن والبهارات وامزجي حتى تتبل بالكامل وغطي الطبق واتركي الدجاجة لمدة ساعتين على الأقل في الثلاجة. ضعي الدجاجة مع البطاطس والبصل في كيس الشواء الحراري وضعي الكيس في طبق الفرن وأضيفي للطبق أو الصينية حوالي ثلث كوب ماء. أدخلي الصينية للفرن على حرارة 200 درجة لمدة 30 دقيقة ثم اثقبي الكيس بواسطة سكين. خففي حرارة الفرن إلى 180 درجة واتركي الدجاج لمدة 45 دقيقة حتى ينضج. قدميه ساخناً إلى جانب السلطة أو المكرونة حسب الرغبة.', 'description': ' بالبطاطس والبصل ... طبخات الدجاج المشوي من أطيب ', 'time': '60 دقيقة ', 'tags': 'أطباق البطاطس طبخات الدجاج وصفات البطاطا صواني بالفرن دجاج مشوي دجاج بالفرن وصفات بالفرن', 'cuisine': ' عربي ', 'img': 'https://kitchen.sayidaty.net/uploads/small/1e/1ec86122e91a35231d34250f412ca4c9_w750_h500.jpg', 'Id': 9285}}], [3803, 2642, 6776, 11234, 8294, 13478, 7022, 4614, 9142, 9285])\n"
     ]
    }
   ],
   "source": [
    "q = \"بطاطس رز بصل\"\n",
    "result = search_by_ingredients(q, client, 'recipes')\n",
    "print(result)"
   ]
  },
  {
   "cell_type": "code",
   "execution_count": 14,
   "metadata": {},
   "outputs": [],
   "source": [
    "ids = result[1]"
   ]
  },
  {
   "cell_type": "code",
   "execution_count": 15,
   "metadata": {},
   "outputs": [
    {
     "name": "stdout",
     "output_type": "stream",
     "text": [
      "الرز الأصفر بالبصل..\n",
      "بطاطس مقلية مع البصل\n",
      "بصل مشوي بالبطاطس\n",
      "شوربة البطاطس بالبصل\n",
      "بطاطس حلقات بالبصل\n",
      "الرز البخاري الأصلي\n",
      "رز باللحمة والبطاطس والعدس\n",
      "بطاطس بالتوم والبصل الأخضر\n",
      "شوربة البطاطس والبصل الأخضر\n",
      "دجاج مشوي بالبطاطس والبصل\n"
     ]
    }
   ],
   "source": [
    "for i in ids:\n",
    "    print(df_recipes.loc[df_recipes['Id'] == int(i)]['name'].values[0])"
   ]
  },
  {
   "cell_type": "code",
   "execution_count": 16,
   "metadata": {},
   "outputs": [],
   "source": [
    "def search_by_tags(tags_query, client, index):\n",
    "    # Define the search query\n",
    "    search_query = Q(\n",
    "        \"multi_match\",\n",
    "        fields=[\"tags^2\", \"name\", \"description\"],\n",
    "        query=tags_query,\n",
    "        fuzziness=\"AUTO\"\n",
    "    )\n",
    "\n",
    "    # Create a search object\n",
    "    search = client.search(index=index, body={\"query\": search_query.to_dict()})\n",
    "\n",
    "    ids = []\n",
    "    for hit in search[\"hits\"][\"hits\"]:\n",
    "        ids.append(hit['_source']['Id'])\n",
    "        \n",
    "    return search[\"hits\"][\"hits\"], ids"
   ]
  },
  {
   "cell_type": "code",
   "execution_count": 17,
   "metadata": {},
   "outputs": [],
   "source": [
    "def search_by_name(name_query, client, index):\n",
    "    # Define the search query\n",
    "    search_query = Q(\n",
    "        \"multi_match\",\n",
    "        fields=[\"name^2\", \"ingredients\", \"steps\"],\n",
    "        query=name_query,\n",
    "        fuzziness=\"AUTO\"\n",
    "    )\n",
    "\n",
    "    # Create a search object\n",
    "    search = client.search(index=index, body={\"query\": search_query.to_dict()})\n",
    "\n",
    "    ids = []\n",
    "    for hit in search[\"hits\"][\"hits\"]:\n",
    "        ids.append(hit['_source']['Id'])\n",
    "        \n",
    "    return search[\"hits\"][\"hits\"], ids"
   ]
  },
  {
   "cell_type": "code",
   "execution_count": 18,
   "metadata": {},
   "outputs": [
    {
     "name": "stderr",
     "output_type": "stream",
     "text": [
      "C:\\Users\\Fastora\\AppData\\Local\\Temp\\ipykernel_8900\\3468369990.py:11: DeprecationWarning: The 'body' parameter is deprecated for the 'search' API and will be removed in a future version. Instead use API parameters directly. See https://github.com/elastic/elasticsearch-py/issues/1698 for more information\n",
      "  search = client.search(index=index, body={\"query\": search_query.to_dict()})\n"
     ]
    },
    {
     "name": "stdout",
     "output_type": "stream",
     "text": [
      "([{'_index': 'recipes', '_id': 'tQDph4gBtjLtA0NXBb9v', '_score': 36.210842, '_source': {'name': 'كباب في القلاية الهوائية', 'ingredients': 'لحم بقر مفروم لحم غنم بقدونس سماق ملح فلفل أسود البصل بقسماط السمنة', 'steps': 'في وعاء ضعي لحم البقر، ولحم الغنم، والسمنة، والبصل، والبقسماط، والبقدونس، ثم نكهي بالملح، والفلفل الأسود، والسماق. قلبي المكونات حتى تتداخل وشكلي خليط الكباب إلى أصابع. أدخلي أصابع الكباب إلى القلاية الهوائية لحوالي 10 دقائق على حرارة 180 درجة مئوية. أخرجي أصابع الكباب من القلاية الهوائية وقدميها ساخنة.', 'description': 'كباب في القلاية الهوائية ... تتعدد مميزات وإيجابيات استخدامك للقلاية الهوائية في تحضير الأطعمة، ومنها أنها تحافظ على مطبخك خالٍ من روائح القلي، وتوفر الوقت والجهد، وتساعدكِ في تحضير الأكلات بكمية زيت قليلة جداً، جربي تحضير وصفة من ', 'time': '60 دقيقة ', 'tags': 'الكباب طبخات اللحم المفروم لحم مفروم وصفات الكباب وصفات سريعة بقدونس طبخات سهلة اكلات سهله وصفات سهلة وسريعة', 'cuisine': ' عربي ', 'img': 'https://kitchen.sayidaty.net/uploads/small/74/7489555552f8902dae64102cc6419c37_w750_h500.jpg', 'Id': 1}}, {'_index': 'recipes', '_id': 'UwD7h4gBtjLtA0NX4uD8', '_score': 25.766424, '_source': {'name': 'بروستد بالقلاية الهوائية', 'ingredients': 'الدجاج البيض ملح فلفل أسود ثوم بودرة بابريكا بقسماط', 'steps': 'في وعاء امزجي البيض والملح والفلفل الأسود والبابريكا والثوم البودرة حتى تتداخل المكونات. أضيفي قطع الدجاج ثم قلبي المكونات حتى تتداخل وغطي الوعاء بورق نايلون لاصق وأدخليه إلى الثلاجة لحوالي الـ3 ساعات. حمي القلاية الهوائية على حرارة 200 درجة مئوية. أخرجي خليط الدجاج من الثلاجة ثم غمسي قطع الدجاج في البقسماط. صفي قطع الدجاج قي القلاية الهوائية واتركيها لحوالي الـ20 دقيقة حتى تنضج. قدمي البروستد على سفرتك إلى جانب الثومية والبطاطس.', 'description': 'بروستد بالقلاية الهوائية ... تعتبر عملية استخدام القلاية الهوائية بديلاً مثالياً لتحضير ', 'time': '60 دقيقة ', 'tags': 'طبخات الدجاج وصفات سريعة بروستد وصفات سهلة وسريعة وجبات سريعة', 'cuisine': ' غربي ', 'img': 'https://kitchen.sayidaty.net/uploads/small/2b/2bcb2147e8b5bdb3966adff9e5aa139d_w750_h500.jpg', 'Id': 8350}}, {'_index': 'recipes', '_id': 'KQD9h4gBtjLtA0NXa-Qi', '_score': 25.766424, '_source': {'name': 'الفلافل بالقلاية الهوائية', 'ingredients': 'حمص منقوع بقدونس الثوم الكمون ملح الكزبرة بيكربونات الصوديوم الزيت النباتي', 'steps': 'ضعي كلاً من الحمص والبقدونس في الخلاط واخلطيه حتى تحصلي على عجينة ناعمة. ضعي الحمص المطحون في وعاء ثم أضيفي الكزبرة والملح والكمون والثوم وبيكربونات الصوديوم. قومي بخلط المزيج حتى تحصلي على مزيج متجانس. ذوبي ملعقة صغيرة من بيكربونات الصوديوم (بيكنج صودا) في ملعقة صغيرة من الماء البارد مع ملعقة صغيرة من البيكنج باودر ورشة من الكزبرة الجافة. أضيفهم إلى عجينة الفلافل ثم قومي بتشكيلها على شكل أقراص دائرية. ادهني المقلاة بالقليل من الزيت بواسطة الفرشاة ويمكنك مسح الفلافل بالقليل من الزيت أيضاً بواسطة الفرشاة. اقليه بالقلاية الهوائية على درجه حرارة ٢٠٠ مئوية لمدة 5 دقائق.', 'description': 'الفلافل بالقلاية الهوائية للرجيم ... حضري وجبتك المفضلة من ', 'time': '60 دقيقة ', 'tags': 'اكلات بالحمص الفلافل بقدونس وصفات للرجيم وصفات بالثوم فطور صحي فطور صباحي', 'cuisine': ' عربي ', 'img': None, 'Id': 9332}}, {'_index': 'recipes', '_id': 'PAD_h4gBtjLtA0NXBehI', '_score': 25.766424, '_source': {'name': 'ذرة في القلاية الهوائية', 'ingredients': 'الذرة زيت الزيتون', 'steps': 'قومي بوضع عرانيس الذرة والزيت في وعاء وقلبي المكونات. ضعي العرانيس في القلاية الهوائية ثم ضعيها على درجة حرارة 180 مئوية لحوالي 15 دقيقة حتى تنضج الذرة.', 'description': 'ذرة في القلاية الهوائية ... ', 'time': '20 دقيقة ', 'tags': 'اكلات بالذرة أطباق جانبية مقبلات ساخنة وصفات سريعة وصفات اكل صحي وصفات سهلة وسريعة', 'cuisine': ' عربي ', 'img': 'https://kitchen.sayidaty.net/uploads/small/87/874759f29164c51c0a1a0b13372d861a_w750_h500.jpg', 'Id': 10373}}, {'_index': 'recipes', '_id': '1wD-h4gBtjLtA0NXBOVS', '_score': 25.766424, '_source': {'name': 'كستناء بالقلاية الهوائية', 'ingredients': 'الكستناء', 'steps': 'ضعي كمية الكستناء في القلاية الهوائية بحيث تفرد جيداً في المقلى ولا يجوز أن تراكمي الكستناء فوق بعضها بل يجب فردها في القلاية لتستوي مع بعضها البعض بسرعة ومن دون إضافة زيت أو أي نوع من الدهون. قومي بعدها بإغلاق الغطاء جيداً لأن الكستناء سوف تنفجر قشورها وتخرج من المقلاة إذا لم تغطيها جيداً. قومي بتشغيل القلاية والنظر إليها عندما تخرج منها أصوات فعندما يتغير لون الكستناء من الأسفل ويتشقق وجهها قومي بتقليبهم على الوجه الثاني وتغطية المقلى من جديد. عندما تستوي الكستناء قومي بتركها في المقلاة بعد إطفاء النار حتى تبرد لأن الكستناء تحتفظ بالحرارة.', 'description': 'كستناء بالقلاية الهوائية ... جربي إعداد ', 'time': '20 دقيقة ', 'tags': 'أطباق جانبية مقبلات ساخنة وصفات سريعة وصفات اكل صحي وصفات سهلة وسريعة وصفات خفيفة الغذاء الصحي', 'cuisine': ' عربي ', 'img': 'https://kitchen.sayidaty.net/uploads/small/64/64dfa26f289beca8595fd82b74a9ff88_w750_h500.jpg', 'Id': 9762}}, {'_index': 'recipes', '_id': 'SgD-h4gBtjLtA0NXP-bV', '_score': 25.766424, '_source': {'name': 'دجاجة بالقلاية الهوائية', 'ingredients': 'الدجاج زيت الزيتون ملح فلفل أسود ثوم بودرة بودرة البصل بابريكا', 'steps': 'ادهني الدجاج بزيت الزيتون جيداً وتبلي بالملح، والفلفل الأسود، وبودرة البصل، وبودرة الثوم، والبابريكا، ثم افركي الدجاج بالتوابل جيداً حتى تغطيها كاملة. ضعي الدجاج في سلة المقلاة الهوائية واضبطيها على درجة حرارة 180 مئوية لمدة 35 دقيقة حتى تنضج.\\xa0 قومي بإزالة السلة واقلبي الدجاجة واطهيها لمدة 30 دقيقة أخرى. أخرجي السلة من المقلاة الهوائية ثم اتركي الدجاج يرتاح قليلاً لحوالي 5 دقائق ثم قدميه ساخناً.', 'description': 'دجاجة بالقلاية الهوائية ...استخدام القلاية الهوائية يوفر الكثير من الجهد والوقت وتقدم لكِ الوصفات المطبوخة بطريقة سريعة وقليلة في استخدامها للزيوت، تعلمي أسهل طريقة لتحضير ', 'time': '60 دقيقة ', 'tags': 'طبخات الدجاج وصفات سريعة اكلات سريعة طبخات سهلة اكلات سهله وصفات سهلة وسريعة وجبات سريعة', 'cuisine': ' غربي ', 'img': None, 'Id': 9877}}, {'_index': 'recipes', '_id': 'MwD9h4gBtjLtA0NXzeWy', '_score': 22.879023, '_source': {'name': 'باذنجان مقلي بالقلاية الهوائية', 'ingredients': 'الباذنجان الثوم كزبرة خضراء ملح عصير الليمون', 'steps': 'حمّي المقلاة الهوائية على درجة حرارة 180 مئوية. ادهني درج القلاية الهوائية بالقليل من الزيت ثم ضعي شرائح الباذنجان، ثم ادهنيها بالزيت المتبقي. أغلقي درج القلاية واطهي الباذنجان من كل جهة حتى ينضج لمدة 5 دقائق. ضعي الثوم والكزبرة في مدقة الثوم، واهرسي المكونين جيداً حتى تحصلي على قوام المعجون، ثم أضيفي عصير الليمون وحركي جيداً. اسكبي مزيج الثوم على شرائح الباذنجان ووزعيها جيداً ثم قدميها.', 'description': 'باذنجان مقلي بالقلاية الهوائية ... قللي من كمية الزيوت في إعداد الأكلات والطبخات المقدمة على سفرتك، تعلمي طريقة عمل وصفة ', 'time': '20 دقيقة ', 'tags': 'طبخات الباذنجان أطباق جانبية مقبلات ساخنة وصفات خفيفة', 'cuisine': ' عربي ', 'img': 'https://kitchen.sayidaty.net/uploads/small/3f/3f66d51585eb9c2954505b16575b9052_w750_h500.jpg', 'Id': 9598}}, {'_index': 'recipes', '_id': 'IwADiIgBtjLtA0NXNfKW', '_score': 22.879023, '_source': {'name': 'روبيان مقلي بالقلاية الهوائية', 'ingredients': 'الروبيان الخل الليمون ملح فلفل أسود بابريكا ثوم بودرة بودرة البصل الصويا صوص زيت الزيتون', 'steps': 'في وعاء مناسب اخلطي الخل والليمون والملح والفلفل والبابريكا وبودرة الثوم والبصل والصويا صوص. ضعي الروبيان داخل الوعاء واخلطيه جيداً واتركيه في التتبيلة من 2-3 ساعات. ضعي الروبيان داخل القلاية الهوائية وادهنيه بالقليل من زيت الزيتون لمدة 10 دقائق حتى ينضج.', 'description': 'روبيان مقلي بالقلاية الهوائية دايت ...', 'time': '30 دقيقة ', 'tags': 'طبخات الروبيان روبيان مأكولات بحرية وصفات للرجيم اكلات دايت', 'cuisine': ' عالمي ', 'img': None, 'Id': 12908}}, {'_index': 'recipes', '_id': '7QACiIgBtjLtA0NXSO__', '_score': 22.879023, '_source': {'name': 'بطاطا حلوة بالقلاية الهوائية', 'ingredients': 'البطاطا الحلوة أعشاب مجففة الفلفل الأحمر الحلو فلفل أسود زيت الزيتون ملح شطة مجروشة', 'steps': 'في وعاء كبير، اخلطي زيت الزيتون والفلفل الأحمر، والأعشاب المجففة، والملح، والشطة، والفلفل الأسود جيداً حتى تختلط المكونات. أضيفي البطاطا الحلوة إلى المزيج واتركيها لمدة 10 دقائق حتى تتشبع البطاطا من الصوص. شغلي القلاية الهوائية على درجة حرارة 180 مئوية. ضعي البطاطا في القلاية لمدة 20 دقيقة ثم أخرجيها وقدميها ساخنة.', 'description': 'بطاطا حلوة بالقلاية الهوائية ... لتحضير ', 'time': '30 دقيقة ', 'tags': 'وصفات البطاطا الحلوة أطباق جانبية مقبلات ساخنة وصفات سريعة وصفات سهلة وسريعة وصفات خفيفة', 'cuisine': ' عربي ', 'img': 'https://kitchen.sayidaty.net/uploads/small/ef/efd9897c7b6fc8d44323a1f25cf764b3_w750_h500.jpg', 'Id': 12342}}, {'_index': 'recipes', '_id': '_wACiIgBtjLtA0NXTu_a', '_score': 22.879023, '_source': {'name': 'قرنبيط محمر بالقلاية الهوائية', 'ingredients': 'القرنبيط زيت الزيتون ملح بابريكا ثوم بودرة', 'steps': 'ضعي قدر ماء على النار حتى يغلي. أضيفي للماء زهرات القرنبيط، واتركيه حتى يبدأ بالغليان، ثم ارفعيه فوراً وصفي القرنبيط. اخلطي القرنبيط مع باقي المكونات، ثم ضعيه في مقلاة هوائية لمدة 25 دقيقة.', 'description': 'قرنبيط محمر بالقلاية الهوائية ... تعرفي على طريقة عمل ', 'time': '30 دقيقة ', 'tags': 'أطباق جانبية مقبلات ساخنة وصفات سريعة طبخات القرنبيط وصفات سهلة وسريعة', 'cuisine': ' عربي ', 'img': 'https://kitchen.sayidaty.net/uploads/small/a4/a406dd30925dd69de499ec7a117583c1_w750_h500.jpg', 'Id': 12360}}], [1, 8350, 9332, 10373, 9762, 9877, 9598, 12908, 12342, 12360])\n"
     ]
    }
   ],
   "source": [
    "result = search_by_name(\"كباب في القلاية الهوائية\", client, 'recipes')\n",
    "print(result)\n"
   ]
  },
  {
   "cell_type": "code",
   "execution_count": 19,
   "metadata": {},
   "outputs": [
    {
     "name": "stdout",
     "output_type": "stream",
     "text": [
      "([{'_index': 'recipes', '_id': 'tQDph4gBtjLtA0NXBb9v', '_score': 18.105421, '_source': {'name': 'كباب في القلاية الهوائية', 'ingredients': 'لحم بقر مفروم لحم غنم بقدونس سماق ملح فلفل أسود البصل بقسماط السمنة', 'steps': 'في وعاء ضعي لحم البقر، ولحم الغنم، والسمنة، والبصل، والبقسماط، والبقدونس، ثم نكهي بالملح، والفلفل الأسود، والسماق. قلبي المكونات حتى تتداخل وشكلي خليط الكباب إلى أصابع. أدخلي أصابع الكباب إلى القلاية الهوائية لحوالي 10 دقائق على حرارة 180 درجة مئوية. أخرجي أصابع الكباب من القلاية الهوائية وقدميها ساخنة.', 'description': 'كباب في القلاية الهوائية ... تتعدد مميزات وإيجابيات استخدامك للقلاية الهوائية في تحضير الأطعمة، ومنها أنها تحافظ على مطبخك خالٍ من روائح القلي، وتوفر الوقت والجهد، وتساعدكِ في تحضير الأكلات بكمية زيت قليلة جداً، جربي تحضير وصفة من ', 'time': '60 دقيقة ', 'tags': 'الكباب طبخات اللحم المفروم لحم مفروم وصفات الكباب وصفات سريعة بقدونس طبخات سهلة اكلات سهله وصفات سهلة وسريعة', 'cuisine': ' عربي ', 'img': 'https://kitchen.sayidaty.net/uploads/small/74/7489555552f8902dae64102cc6419c37_w750_h500.jpg', 'Id': 1}}, {'_index': 'recipes', '_id': 'PAD_h4gBtjLtA0NXBehI', '_score': 17.144814, '_source': {'name': 'ذرة في القلاية الهوائية', 'ingredients': 'الذرة زيت الزيتون', 'steps': 'قومي بوضع عرانيس الذرة والزيت في وعاء وقلبي المكونات. ضعي العرانيس في القلاية الهوائية ثم ضعيها على درجة حرارة 180 مئوية لحوالي 15 دقيقة حتى تنضج الذرة.', 'description': 'ذرة في القلاية الهوائية ... ', 'time': '20 دقيقة ', 'tags': 'اكلات بالذرة أطباق جانبية مقبلات ساخنة وصفات سريعة وصفات اكل صحي وصفات سهلة وسريعة', 'cuisine': ' عربي ', 'img': 'https://kitchen.sayidaty.net/uploads/small/87/874759f29164c51c0a1a0b13372d861a_w750_h500.jpg', 'Id': 10373}}, {'_index': 'recipes', '_id': '2gDxh4gBtjLtA0NX_9Kx', '_score': 15.511252, '_source': {'name': 'كباب الدجاج بالزعفران', 'ingredients': 'صدر الدجاج البصل ملح فلفل أسود الزعفران الزيت النباتي', 'steps': '1.\\xa0 ضعي الدجاج مع البصل المبشور في وعاء. 2.\\xa0 أضيفي الملح والفلفل للخليط. 3.\\xa0 ثم أضيفي الزعفران وقلبي حتى تمتزج المكونات. 4.\\xa0 غطي الوعاء بورق البلاستيك وأدخليه الثلاجة لمدة ليلة كاملة. 5. أ خرجي الوعاء من الثلاجة واتركيه قليلا. 6.\\xa0 ضعي الدجاج في أسياخ الخشب وضعيها في شواية الفرن مع دهنها بالزبدة من حين لآخر حتى تنضج وتتحمر. 7.\\xa0 قدميها ساخنة إلى جانب الأرز أو الخضار.', 'description': 'كباب الدجاج ', 'time': '60 دقيقة ', 'tags': 'وصفات بالزعفران الكباب أكلات صحية وصفات الكباب', 'cuisine': ' عربي ', 'img': None, 'Id': 4902}}, {'_index': 'recipes', '_id': 'twDxh4gBtjLtA0NXWNFi', '_score': 15.511252, '_source': {'name': 'اللحم المشوي مع الفليفلة والخردل صحي', 'ingredients': 'زيت الزيتون خل التفاح بذور الخردل لحم العجل بهارات اللحمة إكليل الجبل الفليفلة الحمراء', 'steps': '1. يُضاف، إلى برطمان، كلّ من: زيت الزيتون وخلّ التفّاح وحبّ الخردل. يُغلق البرطمان، ويُرجّ جيّدًا، حتى تختلط المكوّنات معًا. 2. تُضاف مكعبات اللحم إلى وعاء مسطّح، ويُنثر البهار عليها، ثم يُسكب خليط البرطمان فوقها، وتوزّع أغصان إكليل الجبل عليها. 3. بعد نقع مكعبات اللحم لساعة على الأقل، تُوزّع على أشياش الخشب، مع الفليفة. ثم، تُشوى على المنقل المشتعل أو الشوّاية الكهربائية، من جهاتها، حتى تتحولّ إلى بنيّة اللون (10 دقائق تقريبًا).', 'description': 'المشوي مع الفليفلة والخردل لرجيم صحي .. لعل خبراء التغذية دائماً ما ينصحون بتناول ', 'time': '0 دقيقة ', 'tags': 'الكباب طبخات اللحوم أكلات صحية وصفات الكباب', 'cuisine': ' عربي ', 'img': None, 'Id': 4611}}, {'_index': 'recipes', '_id': 'swDzh4gBtjLtA0NXktUT', '_score': 15.511252, '_source': {'name': 'كباب لحم الخروف', 'ingredients': 'لحم الخروف البصل النعناع كزبرة خضراء معجون الزنجبيل معجون الفلفل الحار الكمون كزبرة يابسة بابريكا الفلفل الأحمر ملح الزيت النباتي', 'steps': '1.\\xa0 اخلطي اللحم المفروم مع البصل والنعنع والكزيرة ومعجون الزنجبيل ومعجون الفلفل الحار. 2. أ ضيفي الكمون والكزبرة المطحونة والبابريكا \\xa0والفلفل الأحمر والملح واخلطي حتى تتمازج المكونات. 3.\\xa0 غطي المزيج وضعيه في الثلاجة لمدة ساعتين. 4. بللي \\xa0أعواد خشبية بالماء ثم شكي اللحم في الأعواد بسماكة متوسطة. 5.\\xa0 ادهني الشواية أو المقلاة بالزيت النباتي وقلبي أعواد الكباب على نار متوسطة مع التحريك حتى تنضج. 6.\\xa0 قدميها ساخنة إلى جانب السلطة والمقبلات. سيعجبك أيضاً:', 'description': 'كباب ', 'time': '60 دقيقة ', 'tags': 'الكباب طبخات اللحوم وصفات الكباب وصفات اللحوم', 'cuisine': ' عربي ', 'img': 'https://kitchen.sayidaty.net/uploads/small/c5/c5059203eebf6ea243dfb6483f3df414_w750_h500.jpg', 'Id': 5631}}, {'_index': 'recipes', '_id': '3QD2h4gBtjLtA0NXYNgg', '_score': 15.511252, '_source': {'name': 'ساندويشات الكباب', 'ingredients': 'لحم مفروم البصل الكزبرة بابريكا الثوم ملح فلفل أسود زيت الزيتون', 'steps': 'لتحضير الكباب: في وعاء، ضعي اللحم مع الثوم والبصل. أضيفي البابريكا والكزبرة والملح والفلفل الأسود وزيت الزيتون. اعجني المكونات حتى تتجانس. غطّي الوعاء وضعي الخلطة في الثلاجة لمدّة ساعة. اصنعي الكباب على هيئة أصابع متوسطة الحجم. صفّي الأصابع في صينية فرن. أدخلي الصينية إلى فرن محمّى حتى تنضج مع تحريكها من وقت لآخر حتى لا تلتصق. لتحضير الساندويش: على رغيف الخبز، ادهني ملعقة كبيرة من الحمص. وصفّي 3 أو 4 قطع من الكباب. ووزّعي الكبيس والطماطم ورشّي الملح. لفّي الساندويش وقدّميه فوراً إلى جانب\\xa0البطاطس المقلية.', 'description': 'ساندويشات ', 'time': '60 دقيقة ', 'tags': 'الكباب لحم مفروم وصفات الكباب ساندويشات سهلة', 'cuisine': ' عربي ', 'img': 'https://kitchen.sayidaty.net/uploads/small/d5/d59e5a86532fcd823d0d60da68c161e9_w750_h500.jpg', 'Id': 6440}}, {'_index': 'recipes', '_id': '6QDzh4gBtjLtA0NXz9X5', '_score': 15.511252, '_source': {'name': 'كباب الدجاج مع صلصة الروزماري', 'ingredients': 'زيت الزيتون صلصة الرانش الجاهزة روزماري ملح عصير الليمون الخل فلفل أسود سكر صدر الدجاج', 'steps': '1. اخلطي زيت الزيتون مع صلصة الرانش والروزماري والملح وعصير الليمون والخل والفلفل الأسود والسكر جيداً. 2. أضيفي مكعبات الدجاج وغطي الوعاء واتركيه في الثلاجة لمدة ساعة على الأقل. 3. سخني شواية الفرن على حرارة متوسطة. 4. ضعي الدجاج في أسياخ خشبية واشويها على شواية الفرن لمدة 15 دقيقة مع التقليب حتى تنضج وتتحمر. 5. قدميها ساخنة إلى جانب السلطة أو الشوربة حسب الرغبة.', 'description': 'كباب ', 'time': '60 دقيقة ', 'tags': 'الكباب طبخات الدجاج وصفات الكباب صدور دجاج', 'cuisine': ' عربي ', 'img': 'https://kitchen.sayidaty.net/uploads/small/b7/b785c8c0e01edb3b518a58564e11e2b2_w750_h500.jpg', 'Id': 5685}}, {'_index': 'recipes', '_id': '-wDzh4gBtjLtA0NX29WS', '_score': 15.511252, '_source': {'name': 'الكباب المشوي', 'ingredients': 'زيت الزيتون خل العنب الخردل لحم البتلو صلصة الباربيكيو إكليل الجبل الفليفلة الحمراء', 'steps': '1. لإعداد التتبيلة: يُضاف زيت الزيتون والخل والخردل إلى قارورة صغيرة، وتُرجُّ هذه الأخيرة جيِّدًا، حتَّى تختلط المكوِّنات جيِّدًا. 2. توزَّع مكعبات اللحم في طبق زجاج عميق، وتُملَّح وتُبهَّر حسب الرغبة، ثمَّ تُصبُّ التتبيلة عليها، كما يُضاف فرم إكليل الجبل، وصلصة الباربكيو. وتمرَّغ المكعبات بالصلصة جيِّدًا. \\xa0 3. توزَّع مكعبات اللحم على الأشياش، بالتناوب مع الفليفلة، وتشوى حتَّى تنضج وتصبح بنيَّة اللون، وزهريَّة وطريَّة من الداخل. 4. ستحتاجين إلى: أشياش الخشب، منقوعة بالماء. سيعجبك أيضاً:', 'description': 'تعتبر ', 'time': '40 دقيقة ', 'tags': 'الكباب طبخات اللحوم وصفات الكباب وصفات اللحوم', 'cuisine': ' عربي ', 'img': 'https://kitchen.sayidaty.net/uploads/small/31/31b85a6c088484f1f33ed58316ded79f_w750_h500.jpg', 'Id': 5703}}, {'_index': 'recipes', '_id': '9AABiIgBtjLtA0NXD-yu', '_score': 15.511252, '_source': {'name': 'كباب اللحم التركي', 'ingredients': 'لحم الكتف الهبرة دهن الخروف الشطة بقدونس الفلفل الأحمر الحلو الثوم خبز', 'steps': '. . . . ', 'description': '\\n                        ', 'time': '0 دقيقة ', 'tags': 'الكباب طبخات اللحوم وصفات الكباب وصفات اللحوم', 'cuisine': ' أوروبي ', 'img': 'https://kitchen.sayidaty.net/uploads/small/24/247a8c7323155c9904e189ed58d0d1d0_w750_h500.jpg', 'Id': 11581}}, {'_index': 'recipes', '_id': 'zgAAiIgBtjLtA0NXEuqy', '_score': 15.511252, '_source': {'name': 'كباب بالكرز على الطريقة الحلبية', 'ingredients': 'عصير الكرز سكر كباب الفلفل الحلو صنوبر القرفة بقدونس', 'steps': '1.\\xa0 يخلط الكباب مع البهار ونصف كمية الصنوبر. 2.\\xa0 يقطع الكباب إلى كرات صغيرة، ثم يصف في أسياخ الشوي، ثم يشوى على الفحم حتى ينضج، ويرفع ويترك جانبا مع المحافظة على عصارة اللحم بعد الشواء. 3.\\xa0 في قدر يضع عصير الكرز مع السكر على نار هاردئة، ويترك حتى يتحول العصير إلى خليط سميك قليلًاً. 4.\\xa0 نضيف الكباب وعصارته إلى الكرز ويترك حتى الغليان، والتأكد من أن الكباب تشرب الكرز. 5.\\xa0 يضع في صحن عميق ويزين بالبقدونس والصنوبر. سيعجبك أيضاً:', 'description': 'بالكرز على الطريقة الحلبية .. قدمي أشهى ', 'time': '90 دقيقة ', 'tags': 'الكباب طبخات اللحوم وصفات الكباب وصفات اللحوم', 'cuisine': ' شامي ', 'img': 'https://kitchen.sayidaty.net/uploads/small/7d/7dc5070997384a7a44154233be8dc812_w750_h500.jpg', 'Id': 11031}}], [1, 10373, 4902, 4611, 5631, 6440, 5685, 5703, 11581, 11031])\n"
     ]
    },
    {
     "name": "stderr",
     "output_type": "stream",
     "text": [
      "C:\\Users\\Fastora\\AppData\\Local\\Temp\\ipykernel_8900\\2433964035.py:11: DeprecationWarning: The 'body' parameter is deprecated for the 'search' API and will be removed in a future version. Instead use API parameters directly. See https://github.com/elastic/elasticsearch-py/issues/1698 for more information\n",
      "  search = client.search(index=index, body={\"query\": search_query.to_dict()})\n"
     ]
    }
   ],
   "source": [
    "result = search_by_tags('كباب في القلاية الهوائية', client, 'recipes')\n",
    "print(result)"
   ]
  }
 ],
 "metadata": {
  "kernelspec": {
   "display_name": "Python 3",
   "language": "python",
   "name": "python3"
  },
  "language_info": {
   "codemirror_mode": {
    "name": "ipython",
    "version": 3
   },
   "file_extension": ".py",
   "mimetype": "text/x-python",
   "name": "python",
   "nbconvert_exporter": "python",
   "pygments_lexer": "ipython3",
   "version": "3.9.16"
  },
  "orig_nbformat": 4
 },
 "nbformat": 4,
 "nbformat_minor": 2
}
