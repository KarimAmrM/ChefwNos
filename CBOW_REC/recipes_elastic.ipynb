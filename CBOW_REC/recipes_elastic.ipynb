{
 "cells": [
  {
   "cell_type": "code",
   "execution_count": null,
   "metadata": {},
   "outputs": [],
   "source": [
    "from elasticsearch import Elasticsearch\n",
    "import pandas as pd\n",
    "# Create the client instance\n",
    "client = Elasticsearch(\"http://localhost:9200\")\n",
    "\n",
    "# Successful response!\n",
    "client.info()"
   ]
  },
  {
   "cell_type": "code",
   "execution_count": null,
   "metadata": {},
   "outputs": [],
   "source": [
    "recipes = pd.read_json('data/recipes_cleaned_1.json')"
   ]
  },
  {
   "cell_type": "code",
   "execution_count": null,
   "metadata": {},
   "outputs": [],
   "source": [
    "def create_index(client, index_name):\n",
    "    # Define the index settings and mappings\n",
    "    index_settings = {\n",
    "        \"settings\": {\n",
    "            \"analysis\": {\n",
    "                \"filter\": {\n",
    "                    \"arabic_stemmer\": {\n",
    "                        \"type\": \"stemmer\",\n",
    "                        \"language\": \"arabic\"\n",
    "                    },\n",
    "                    \"arabic_stop\": {\n",
    "                        \"type\": \"stop\",\n",
    "                        \"stopwords\": \"_arabic_\"\n",
    "                    }\n",
    "                },\n",
    "                \"analyzer\": {\n",
    "                    \"rebuilt_arabic\": {\n",
    "                        \"type\": \"custom\",\n",
    "                        \"tokenizer\": \"standard\",\n",
    "                        \"filter\": [\"lowercase\", \"decimal_digit\", \"arabic_stop\", \"arabic_normalization\", \"arabic_stemmer\"]\n",
    "                    }\n",
    "                }\n",
    "            }\n",
    "        },\n",
    "        \"mappings\": {\n",
    "            \"properties\": {\n",
    "                \"Id\": {\n",
    "                    \"type\": \"long\"\n",
    "                },\n",
    "                \"RecipeTitle\": {\n",
    "                    \"type\": \"text\",\n",
    "                    \"analyzer\": \"rebuilt_arabic\",\n",
    "                    \"search_analyzer\": \"rebuilt_arabic\"\n",
    "                },\n",
    "                \"Ingredients\": {\n",
    "                    \"type\": \"text\",\n",
    "                    \"analyzer\": \"rebuilt_arabic\",\n",
    "                    \"search_analyzer\": \"rebuilt_arabic\"\n",
    "                },\n",
    "                \"Tags\": {\n",
    "                    \"type\": \"text\",\n",
    "                    \"analyzer\": \"rebuilt_arabic\",\n",
    "                    \"search_analyzer\": \"rebuilt_arabic\"\n",
    "                },\n",
    "                \"Steps\": {\n",
    "                    \"type\": \"text\",\n",
    "                    \"analyzer\": \"rebuilt_arabic\",\n",
    "                    \"search_analyzer\": \"rebuilt_arabic\"\n",
    "                }\n",
    "            }\n",
    "        }\n",
    "    }\n",
    "\n",
    "    # Create the index with the specified settings and mappings\n",
    "    create_index_response = client.indices.create(index=index_name, body=index_settings)\n",
    "    return create_index_response\n",
    "# Call the function to create the index\n",
    "response = create_index(client=client, index_name=\"recipes\")\n",
    "print(response)"
   ]
  },
  {
   "cell_type": "code",
   "execution_count": null,
   "metadata": {},
   "outputs": [],
   "source": [
    "def add_recipes(client, index, recipes):\n",
    "    #add to recipes id column from its index\n",
    "    recipes['Id'] = recipes.index\n",
    "    # Convert the dataframe to a dictionary\n",
    "    recipes_dict = recipes.to_dict(\"records\")\n",
    "    for recipe in recipes_dict:\n",
    "        # Index the dictionary of each recipe into Elasticsearch\n",
    "        resp = client.index(index=index, document=recipe)\n",
    "        if resp['result'] != 'created':\n",
    "            print(resp)\n"
   ]
  },
  {
   "cell_type": "code",
   "execution_count": null,
   "metadata": {},
   "outputs": [],
   "source": [
    "add_recipes(client, 'recipes', recipes)"
   ]
  }
 ],
 "metadata": {
  "language_info": {
   "name": "python"
  },
  "orig_nbformat": 4
 },
 "nbformat": 4,
 "nbformat_minor": 2
}
