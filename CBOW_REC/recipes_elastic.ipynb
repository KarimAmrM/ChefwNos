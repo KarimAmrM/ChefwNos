{
 "cells": [
  {
   "cell_type": "code",
   "execution_count": 1,
   "metadata": {},
   "outputs": [
    {
     "name": "stderr",
     "output_type": "stream",
     "text": [
      "c:\\Users\\Fastora\\AppData\\Local\\Programs\\Python\\Python39\\lib\\site-packages\\numpy\\_distributor_init.py:30: UserWarning: loaded more than 1 DLL from .libs:\n",
      "c:\\Users\\Fastora\\AppData\\Local\\Programs\\Python\\Python39\\lib\\site-packages\\numpy\\.libs\\libopenblas.FB5AE2TYXYH2IJRDKGDGQ3XBKLKTF43H.gfortran-win_amd64.dll\n",
      "c:\\Users\\Fastora\\AppData\\Local\\Programs\\Python\\Python39\\lib\\site-packages\\numpy\\.libs\\libopenblas64__v0.3.21-gcc_10_3_0.dll\n",
      "  warnings.warn(\"loaded more than 1 DLL from .libs:\"\n"
     ]
    },
    {
     "data": {
      "text/plain": [
       "{'name': 'instance-0000000001',\n",
       " 'cluster_name': 'ff097923828f47a69856fc863b3dcaa3',\n",
       " 'cluster_uuid': 'pxX7iuB_TNOB7WKUuYai4A',\n",
       " 'version': {'number': '8.8.0',\n",
       "  'build_flavor': 'default',\n",
       "  'build_type': 'docker',\n",
       "  'build_hash': 'c01029875a091076ed42cdb3a41c10b1a9a5a20f',\n",
       "  'build_date': '2023-05-23T17:16:07.179039820Z',\n",
       "  'build_snapshot': False,\n",
       "  'lucene_version': '9.6.0',\n",
       "  'minimum_wire_compatibility_version': '7.17.0',\n",
       "  'minimum_index_compatibility_version': '7.0.0'},\n",
       " 'tagline': 'You Know, for Search'}"
      ]
     },
     "execution_count": 1,
     "metadata": {},
     "output_type": "execute_result"
    }
   ],
   "source": [
    "from elasticsearch import Elasticsearch\n",
    "from elasticsearch_dsl import Search, Q\n",
    "import pandas as pd\n",
    "# Create the client instance\n",
    "# client = Elasticsearch(\"http://localhost:9200\")\n",
    "\n",
    "# # Successful response!\n",
    "# client.info()\n",
    "\n",
    "ELASTIC_PASSWORD = \"as\"\n",
    "\n",
    "# Found in the 'Manage Deployment' page\n",
    "CLOUD_ID = \"ad\"\n",
    "\n",
    "# Create the client instance\n",
    "client = Elasticsearch(\n",
    "    cloud_id=CLOUD_ID,\n",
    "    http_auth=(\"elastic\", ELASTIC_PASSWORD)\n",
    ")\n",
    "\n",
    "# Successful response!\n",
    "client.info()"
   ]
  },
  {
   "cell_type": "code",
   "execution_count": 2,
   "metadata": {},
   "outputs": [],
   "source": [
    "recipes = pd.read_json('data/recipes_cleaned_1.json')"
   ]
  },
  {
   "cell_type": "code",
   "execution_count": 3,
   "metadata": {},
   "outputs": [],
   "source": [
    "for i, data in recipes.iterrows():\n",
    "    ing = []\n",
    "    for j in data['ingredients']:\n",
    "        ing.append(j['ingredient'])\n",
    "    data['ingredients'] = ing\n"
   ]
  },
  {
   "cell_type": "code",
   "execution_count": 16,
   "metadata": {},
   "outputs": [
    {
     "name": "stdout",
     "output_type": "stream",
     "text": [
      "<class 'pandas.core.frame.DataFrame'>\n",
      "Int64Index: 15911 entries, 0 to 15910\n",
      "Data columns (total 7 columns):\n",
      " #   Column       Non-Null Count  Dtype \n",
      "---  ------       --------------  ----- \n",
      " 0   name         15911 non-null  object\n",
      " 1   ingredients  15911 non-null  object\n",
      " 2   steps        15911 non-null  object\n",
      " 3   description  15911 non-null  object\n",
      " 4   time         15911 non-null  object\n",
      " 5   tags         15911 non-null  object\n",
      " 6   cuisine      15911 non-null  object\n",
      "dtypes: object(7)\n",
      "memory usage: 994.4+ KB\n"
     ]
    }
   ],
   "source": [
    "recipes.info()"
   ]
  },
  {
   "cell_type": "code",
   "execution_count": 125,
   "metadata": {},
   "outputs": [
    {
     "name": "stderr",
     "output_type": "stream",
     "text": [
      "C:\\Users\\Fastora\\AppData\\Local\\Temp\\ipykernel_16116\\4178635385.py:3: DeprecationWarning: Using positional arguments for APIs is deprecated and will be disabled in 8.0.0. Instead use only keyword arguments for all APIs. See https://github.com/elastic/elasticsearch-py/issues/1698 for more information\n",
      "  if client.indices.exists(index_name):\n",
      "C:\\Users\\Fastora\\AppData\\Local\\Temp\\ipykernel_16116\\4178635385.py:57: DeprecationWarning: The 'body' parameter is deprecated for the 'create' API and will be removed in a future version. Instead use API parameters directly. See https://github.com/elastic/elasticsearch-py/issues/1698 for more information\n",
      "  create_index_response = client.indices.create(index=index_name, body=index_settings)\n"
     ]
    },
    {
     "name": "stdout",
     "output_type": "stream",
     "text": [
      "{'acknowledged': True, 'shards_acknowledged': True, 'index': 'recipes'}\n"
     ]
    }
   ],
   "source": [
    "def create_index(client, index_name):\n",
    "    # Define the index settings and mappings\n",
    "    if client.indices.exists(index_name):\n",
    "        pass\n",
    "    index_settings = {\n",
    "        \"settings\": {\n",
    "            \"analysis\": {\n",
    "                \"filter\": {\n",
    "                    \"arabic_stemmer\": {\n",
    "                        \"type\": \"stemmer\",\n",
    "                        \"language\": \"arabic\"\n",
    "                    },\n",
    "                    \"arabic_stop\": {\n",
    "                        \"type\": \"stop\",\n",
    "                        \"stopwords\": \"_arabic_\"\n",
    "                    }\n",
    "                },\n",
    "                \"analyzer\": {\n",
    "                    \"rebuilt_arabic\": {\n",
    "                        \"type\": \"custom\",\n",
    "                        \"tokenizer\": \"standard\",\n",
    "                        \"filter\": [\"lowercase\", \"decimal_digit\", \"arabic_stop\", \"arabic_normalization\", \"arabic_stemmer\"]\n",
    "                    }\n",
    "                }\n",
    "            }\n",
    "        },\n",
    "        \"mappings\": {\n",
    "            \"properties\": {\n",
    "                \"Id\": {\n",
    "                    \"type\": \"long\"\n",
    "                },\n",
    "                \"name\": {\n",
    "                    \"type\": \"text\",\n",
    "                    \"analyzer\": \"rebuilt_arabic\",\n",
    "                    \"search_analyzer\": \"rebuilt_arabic\"\n",
    "                },\n",
    "                \"ingredients\": {\n",
    "                    \"type\": \"text\",\n",
    "                    \"analyzer\": \"rebuilt_arabic\",\n",
    "                    \"search_analyzer\": \"rebuilt_arabic\"\n",
    "                },\n",
    "                \"steps\": {\n",
    "                    \"type\": \"text\",\n",
    "                    \"analyzer\": \"rebuilt_arabic\",\n",
    "                    \"search_analyzer\": \"rebuilt_arabic\"\n",
    "                },\n",
    "                \"tags\": {\n",
    "                    \"type\": \"text\",\n",
    "                    \"analyzer\": \"rebuilt_arabic\",\n",
    "                    \"search_analyzer\": \"rebuilt_arabic\"\n",
    "                }\n",
    "            }\n",
    "        }\n",
    "    }\n",
    "\n",
    "    # Create the index with the specified settings and mappings\n",
    "    create_index_response = client.indices.create(index=index_name, body=index_settings)\n",
    "    return create_index_response\n",
    "# Call the function to create the index\n",
    "response = create_index(client=client, index_name=\"recipes\")\n",
    "print(response)"
   ]
  },
  {
   "cell_type": "code",
   "execution_count": 11,
   "metadata": {},
   "outputs": [],
   "source": [
    "def get_recipe_by_id(client, index_name, id):\n",
    "    search = Search(using=client, index=index_name).query(\"match\", Id=id)\n",
    "    response = search.execute()\n",
    "    if response:\n",
    "        return response[0].to_dict()\n",
    "    else:\n",
    "        return None"
   ]
  },
  {
   "cell_type": "code",
   "execution_count": 12,
   "metadata": {},
   "outputs": [
    {
     "data": {
      "text/plain": [
       "{'name': 'كباب في القلاية الهوائية',\n",
       " 'ingredients': 'لحم بقر مفروم لحم غنم بقدونس سماق ملح فلفل أسود البصل بقسماط السمنة',\n",
       " 'steps': 'في وعاء ضعي لحم البقر، ولحم الغنم، والسمنة، والبصل، والبقسماط، والبقدونس، ثم نكهي بالملح، والفلفل الأسود، والسماق. قلبي المكونات حتى تتداخل وشكلي خليط الكباب إلى أصابع. أدخلي أصابع الكباب إلى القلاية الهوائية لحوالي 10 دقائق على حرارة 180 درجة مئوية. أخرجي أصابع الكباب من القلاية الهوائية وقدميها ساخنة.',\n",
       " 'description': 'كباب في القلاية الهوائية ... تتعدد مميزات وإيجابيات استخدامك للقلاية الهوائية في تحضير الأطعمة، ومنها أنها تحافظ على مطبخك خالٍ من روائح القلي، وتوفر الوقت والجهد، وتساعدكِ في تحضير الأكلات بكمية زيت قليلة جداً، جربي تحضير وصفة من ',\n",
       " 'time': '60 دقيقة ',\n",
       " 'tags': 'الكباب طبخات اللحم المفروم لحم مفروم وصفات الكباب وصفات سريعة بقدونس طبخات سهلة اكلات سهله وصفات سهلة وسريعة',\n",
       " 'cuisine': ' عربي ',\n",
       " 'Id': 1}"
      ]
     },
     "execution_count": 12,
     "metadata": {},
     "output_type": "execute_result"
    }
   ],
   "source": [
    "get_recipe_by_id(client, \"recipes\", 1)"
   ]
  },
  {
   "cell_type": "code",
   "execution_count": 126,
   "metadata": {},
   "outputs": [],
   "source": [
    "df_recipes = recipes\n",
    "#join ingredients list to one string\n",
    "df_recipes['ingredients'] = df_recipes['ingredients'].apply(lambda x: ' '.join(x))\n",
    "#join tags list to one string\n",
    "df_recipes['tags'] = df_recipes['tags'].apply(lambda x: ' '.join(x))\n",
    "#join steps list to one string\n",
    "df_recipes['steps'] = df_recipes['steps'].apply(lambda x: ' '.join(x))\n"
   ]
  },
  {
   "cell_type": "code",
   "execution_count": 127,
   "metadata": {},
   "outputs": [],
   "source": [
    "def add_recipes(client, index, recipes):\n",
    "    #add to recipes id column from its index\n",
    "    recipes['Id'] = recipes.index\n",
    "    # Convert the dataframe to a dictionary\n",
    "    recipes_dict = recipes.to_dict(\"records\")\n",
    "    for recipe in recipes_dict:\n",
    "        # Index the dictionary of each recipe into Elasticsearch\n",
    "        resp = client.index(index=index, document=recipe)\n",
    "        if resp['result'] != 'created':\n",
    "            print(resp)\n"
   ]
  },
  {
   "cell_type": "code",
   "execution_count": 128,
   "metadata": {},
   "outputs": [],
   "source": [
    "add_recipes(client, 'recipes', df_recipes)"
   ]
  },
  {
   "cell_type": "code",
   "execution_count": 4,
   "metadata": {},
   "outputs": [],
   "source": [
    "def search_by_ingredients(ingredients_query, client, index):\n",
    "    # Define the search query\n",
    "    search_query = Q(\n",
    "        \"multi_match\",\n",
    "        fields=[\"ingredients^2\", \"name^2\", \"steps\"],\n",
    "        query=ingredients_query,\n",
    "        fuzziness=\"AUTO\"\n",
    "    )\n",
    "\n",
    "    # Create a search object\n",
    "    search = client.search(index=index, body={\"query\": search_query.to_dict()})\n",
    "\n",
    "    ids = []\n",
    "    for hit in search[\"hits\"][\"hits\"]:\n",
    "        ids.append(hit['_source']['Id'])\n",
    "        \n",
    "    return search[\"hits\"][\"hits\"], ids"
   ]
  },
  {
   "cell_type": "code",
   "execution_count": 5,
   "metadata": {},
   "outputs": [
    {
     "name": "stderr",
     "output_type": "stream",
     "text": [
      "C:\\Users\\Fastora\\AppData\\Local\\Temp\\ipykernel_20904\\3548199306.py:11: DeprecationWarning: The 'body' parameter is deprecated for the 'search' API and will be removed in a future version. Instead use API parameters directly. See https://github.com/elastic/elasticsearch-py/issues/1698 for more information\n",
      "  search = client.search(index=index, body={\"query\": search_query.to_dict()})\n"
     ]
    },
    {
     "name": "stdout",
     "output_type": "stream",
     "text": [
      "([{'_index': 'recipes', '_id': 'tgC_WIgBtjLtA0NX8I1S', '_score': 18.764229, '_source': {'name': 'الرز الأصفر بالبصل..', 'ingredients': 'الأرز مرق دجاج ملح البصل الكركم الزيت النباتي الفلفل الأخضر بهارات', 'steps': '1. يسكب الزيت في قدر توضع على نار هادئة، ويضاف له البصل المفروم، ويقلب لدقيقتين، فالأرز الذي يقلب أيضاً لدقيقتين، ثم ينثر الكركم والملح ويوضع مرق الدجاج والبهار. 2. يقلب هذا المزيج، وتغطى القدر، مع التقليب كلّ 5 دقائق حتى يجف الماء تماماً وينضج الأرز. 3. ثم، يضاف بعض الزيت في قدر نظيفة، ويقلى الفلفل الأخضر الحلو حتى يذبل، ثم يخلط بالأرز. 4. \\xa0يمكن تزيين هذا الطبق بأوراق البصل الأخصر المقطعة.', 'description': '\\n                        ', 'time': '0 دقيقة ', 'tags': 'أطباق الأرز وصفات الأرز أطباق رمضانية', 'cuisine': ' عربي ', 'Id': 4017}}, {'_index': 'recipes', '_id': 'wwC-WIgBtjLtA0NXnIh-', '_score': 15.743984, '_source': {'name': 'بطاطس مقلية مع البصل', 'ingredients': 'البطاطس البصل الزبدة زيت الزيتون بودرة الثوم أعشاب مجففة ملح فلفل أسود', 'steps': '1.\\xa0 سخني الزبدة مع زيت الزيتون في مقلاة واسعة على نار متوسطة. 2. أ ضيفي شرائح البطاطس والبصل وغطي المقلاة واتركيها لمدة 10 دقائق حتى تتحمر ثم اقلبيها على الجهة الأخرى لتتحمر من جميع الجهات. 3.\\xa0 وزعي الثوم البودرة والأعشاب والملح والفلفل الأسود وحركي المزيج حتى تختلط المكونات واتركيها على النار لمدة 5 دقائق إضافية. 4.\\xa0 قدميها ساخنة إلى جانب السلطة حسب الرغبة. سيعجبك أيضاً:', 'description': 'بطاطس مقلية مع البصل .. تعد ', 'time': '30 دقيقة ', 'tags': 'وصفات بالزبدة أطباق البطاطس مقبلات ساخنة وصفات البطاطا', 'cuisine': ' غربي ', 'Id': 2750}}, {'_index': 'recipes', '_id': 'tADIWIgBtjLtA0NXwa6s', '_score': 15.743984, '_source': {'name': 'شوربة البطاطس بالبصل', 'ingredients': 'البطاطس الجزر البصل الأخضر مرق دجاج الزبدة ملح فلفل أسود الكمون الماء', 'steps': 'ضعي البطاطس والجزر في الخلاط مع نصف كوب من المرق، واخلطي جيداً حتى يصبح ناعم القوام. في مقلاة على نار متوسطة بها الزبدة، ضعي البصل الأخضر وتبليه بالملح، والفلفل الأسود، والكمون، وقلبيه حتى يذبل. أضيفي خليط البطاطس والجزر، وقلبي جيداً وخففي النار حتى تغلي. أضيفي بعض الماء لجعل قوامها أخف. اسكبي الشوربة في صحن التقديم، وزينيها بقطع من الجزر والبصل الأخضر، وقدميها ساخنة.', 'description': 'شوربة البطاطس بالبصل ... قدمي على سفرتك وصفات ', 'time': '40 دقيقة ', 'tags': 'أطباق جانبية مقبلات ساخنة وصفات سريعة شوربة البطاطس وصفات سهلة وسريعة', 'cuisine': ' عربي ', 'Id': 12463}}, {'_index': 'recipes', '_id': 'rgDFWIgBtjLtA0NXQKGf', '_score': 15.743984, '_source': {'name': 'بطاطس حلقات بالبصل', 'ingredients': 'الزيت النباتي البصل البطاطس ملح فلفل أسود الفلفل الاحمر الحار بهارات مشكلة', 'steps': 'في قدر على حرارة متوسطة، سخّني الزيت ثمّ أضيفي شرائح البطاطس، وقلّبي البطاطس حتى تتحمّر. أضيفي البصل وقلّبي المكونات حتى تتداخل، ونكّهي بالملح، الفلفل الأسود، الفلفل الأحمر الحار والبهارات العربية المشكلة. \\xa0ضعي الغطاء وخفّفي النار، واطهي المكونات حتى تنضج بالكامل. \\xa0قدّمي الطبق ساخناً.', 'description': 'بطاطس حلقات بالبصل ... قدمي على سفرتك ', 'time': '30 دقيقة ', 'tags': 'أطباق البطاطس أطباق جانبية مقبلات ساخنة وصفات البطاطا وصفات سريعة اكلات سريعة وصفات سهلة وسريعة وجبات سريعة', 'cuisine': ' عربي ', 'Id': 9129}}, {'_index': 'recipes', '_id': '0wDDWIgBtjLtA0NXcJrR', '_score': 15.743984, '_source': {'name': 'بصل مشوي بالبطاطس', 'ingredients': 'المايونيز جبن البارميزان الثوم شطة مجروشة بابريكا ملح فلفل أسود البطاطس البصل الزيت النباتي', 'steps': 'سخني شواية الفرن على حرارة متوسطة. بطني صينية بورق الالمنيوم وادهنيها بالزيت النباتي. اخلطي المايونيز مع الجبن البارميزان والثوم والشطة المجروشة والبابريكا والملح والفلفل الأسود في طبق. ضعي البطاطس في الصينية والبصل وأضيفي خليط المايونيز والتوابل وقلبي حتى تمتزج المكونات. أدخلي الصينية للفرن لمدة 30 دقيقة حتى تتحمر البطاطس وتنضج مع البصل. قدميها ساخنة إلى جانب اللحم أو الدجاج المشوي حسب الرغبة.', 'description': 'بصل مشوي بالبطاطس .. نقدم لك من مطبخ سيدتي أطيب ', 'time': '30 دقيقة ', 'tags': 'أطباق البطاطس أطباق جانبية وصفات البطاطا صينية خضار جبنة بارميزان خضار وصفات بالثوم', 'cuisine': ' عربي ', 'Id': 7374}}, {'_index': 'recipes', '_id': 'CQDLWIgBtjLtA0NXcrkT', '_score': 15.676073, '_source': {'name': 'الرز البخاري الأصلي', 'ingredients': 'اللحم الأرز طويل الحبة البصل طماطم الجزر صلصة طماطم الكمون هيل ملح فلفل أسود الزيت النباتي مكسرات محمصة ماء ساخن زبيب', 'steps': 'انقعي الأرز لمدة 30 دقيقة واغسليه ثم صفيه. أضيفي الزيت النباتي ثم البصل في قدر على النار واقليه حتى يذبل. قومي بإضافة اللحم وقلبيه مع البصل. أضيفي الطماطم المفرومة والجزر وصلصة الطماطم وبهريها بالبهارات والملح وغطي القدر حتى تتسبك المكونات. أضيفي الأرز والماء الساخن على خليط اللحم وحركي بلطف حتى تختلط المكونات مع بعضها واتركيه حتى يغلي ثم خففي درجة الحرارة واتركيه على نار هائة حتى ينضج. قومي بسكب الرز البخاري بطبق التقديم وزينيه بالمكسرات المحمصة والزبيب وقدميه ساخناً بجانب طبق من سلطة الزبادي.', 'description': 'الرز البخاري الأصلي ... ', 'time': '60 دقيقة ', 'tags': 'الأرز البسمتي أطباق الأرز طبخات سعودية وصفات الأرز وصفات سعودية وصفات رمضان المطبخ السعودي سفرة رمضان أكلات سعودية وصفات رمضانية 2022 فطور رمضان 2022 إفطار رمضان 2022 أكلات رمضانية سهلة 2022 أكلات رمضانية جديدة 2022 طبخات رمضان 2022', 'cuisine': ' سعودي ', 'Id': 15002}}, {'_index': 'recipes', '_id': '7gDDWIgBtjLtA0NXvJtN', '_score': 14.167486, '_source': {'name': 'رز باللحمة والبطاطس والعدس', 'ingredients': 'الزبدة فيليه اللحم ملح فلفل أسود ورق غار عدس بنّي البصل البطاطس الأرز هيل', 'steps': 'سخني الزبدة في قدر على نار متوسطة وأضيفي مكعبات اللحم وقلبي جيداً ثم أضيفي البصل المفروم ناعم والهيل والملح والفلفل وورق الغار واغمري القدر بالماء واتركيه حتى يغلي ثم خففي النار وغطي القدر واتركي اللحم لمدة 45 دقيقة حتى ينضج. صفي المرق وضعي اللحم في قدر آخر وأضيفي العدس المسلوق والبطاطس والأرز وقلبي قليلاً ثم أضيفي حوالي 2 ½ كوب من المرق. اضبطي الملح والفلفل واتركي المزيج حتى يغلي ثم خففي النار وغطي القدر واتركيه على نار خفيفة لمدة 30 دقيقة حتى ينضج الأرز والبطاطس. ضعي الأرز في طبق التقديم وقدميه ساخناً.', 'description': 'رز باللحمة والبطاطس والعدس .. نقدم لك من مطبخ سيدتي أطيب ', 'time': '60 دقيقة ', 'tags': 'طبخات العدس أطباق الأرز أطباق البطاطس طبخات اللحوم وصفات الأرز وصفات البطاطا وصفات اللحوم وصفات رمضان وصفات رمضانية سهلة رمضان 2020 طبخات رمضان 2020', 'cuisine': ' عربي ', 'Id': 7657}}, {'_index': 'recipes', '_id': 'HADAWIgBtjLtA0NX2pGk', '_score': 13.958864, '_source': {'name': 'بطاطس بالتوم والبصل الأخضر', 'ingredients': 'البطاطس الثوم الزبدة ملح كريمة الطبخ البصل الأخضر الزيت النباتي', 'steps': '', 'description': 'بالتوم والبصل الأخضر .. طبق ', 'time': '0 دقيقة ', 'tags': 'أطباق البطاطس أطباق جانبية مقبلات شامية وصفات البطاطا وصفات سريعة', 'cuisine': ' عربي ', 'Id': 4887}}, {'_index': 'recipes', '_id': 'WQDIWIgBtjLtA0NXqa5N', '_score': 13.958864, '_source': {'name': 'حلقات البصل بالبطاطس والجبن', 'ingredients': 'البصل رقائق البطاطس رقائق البطاطس رقائق البطاطس جبن موزاريلا دقيق البيض لبن ملح فلفل أسود الزيت النباتي', 'steps': 'سخني الزيت في قدر على نار متوسطة. ضعي رقائق البطاطس بالملح، ورقائق البطاطس بالكريمة الحامضة والبصل، ورقائق البطاطس بالباربكيو والموزاريلا في وعاء، واخلطي المكونات حتى تتداخل. في وعاء اخلطي البيض، واللبن، والملح، والفلفل الأسود. غمسي حلقات البصل بالدقيق، والبيض، ورقائق البطاطس. اقلي حلقات البصل في الزيت حتى تصبح ذهبية اللون. صفّي حلقات البصل من الزيت، وضعيها على محارم ورقية، وقدميها ساخنة.', 'description': 'حلقات البصل بالبطاطس والجبن ... حضري أطيب وصفات ', 'time': '30 دقيقة ', 'tags': 'وصفات بالجبن أطباق جانبية جبن الموزريلا مقبلات ساخنة وصفات سريعة وصفات سهلة وسريعة وجبات سريعة', 'cuisine': ' غربي ', 'Id': 12372}}, {'_index': 'recipes', '_id': 'FQDFWIgBtjLtA0NXXKJ5', '_score': 13.958864, '_source': {'name': 'عجة البيض بالبطاطس والبصل', 'ingredients': 'البيض البطاطس زيت الزيتون البصل الزبدة الثوم ملح فلفل أسود', 'steps': 'في مقلاة كبيرة على نار متوسطة، ذوبي الزبدة وأضيفي الزيت. اقلي البصل ليصبح طرياً لحوالي 10 دقائق. أضيفي شرائح البطاطس وغطي المقلاة، واقلي لحوالي 15-20 دقيقة. في وعاء، اخفقي البيض ونكهيه بالملح والفلفل الأسود. غطي المقلاة واطهي لحوالي 15 دقيقة، ثم اقلبيها لتنضج من الجهة الثانية. قدميها ساخنة.', 'description': 'عجة البيض بالبطاطس والبصل ... ما يميز ', 'time': '30 دقيقة ', 'tags': 'وصفات البيض وصفات العجة أطباق البطاطس وصفات البطاطا خضار فطور صباحي', 'cuisine': ' عربي ', 'Id': 9232}}], [4017, 2750, 12463, 9129, 7374, 15002, 7657, 4887, 12372, 9232])\n"
     ]
    }
   ],
   "source": [
    "q = \"بطاطس رز بصل\"\n",
    "result = search_by_ingredients(q, client, 'recipes')\n",
    "print(result)"
   ]
  },
  {
   "cell_type": "code",
   "execution_count": 131,
   "metadata": {},
   "outputs": [],
   "source": [
    "ids = result[1]"
   ]
  },
  {
   "cell_type": "code",
   "execution_count": 132,
   "metadata": {},
   "outputs": [
    {
     "name": "stdout",
     "output_type": "stream",
     "text": [
      "الرز الأصفر بالبصل..\n",
      "بطاطس مقلية مع البصل\n",
      "شوربة البطاطس بالبصل\n",
      "بطاطس حلقات بالبصل\n",
      "بصل مشوي بالبطاطس\n",
      "الرز البخاري الأصلي\n",
      "رز باللحمة والبطاطس والعدس\n",
      "بطاطس بالتوم والبصل الأخضر\n",
      "حلقات البصل بالبطاطس والجبن\n",
      "عجة البيض بالبطاطس والبصل\n"
     ]
    }
   ],
   "source": [
    "for i in ids:\n",
    "    print(df_recipes.loc[df_recipes['Id'] == int(i)]['name'].values[0])"
   ]
  },
  {
   "cell_type": "code",
   "execution_count": 114,
   "metadata": {},
   "outputs": [],
   "source": [
    "def search_by_tags(tags_query, client, index):\n",
    "    # Define the search query\n",
    "    search_query = Q(\n",
    "        \"multi_match\",\n",
    "        fields=[\"tags^2\", \"name\", \"description\"],\n",
    "        query=tags_query,\n",
    "        fuzziness=\"AUTO\"\n",
    "    )\n",
    "\n",
    "    # Create a search object\n",
    "    search = client.search(index=index, body={\"query\": search_query.to_dict()})\n",
    "\n",
    "    ids = []\n",
    "    for hit in search[\"hits\"][\"hits\"]:\n",
    "        ids.append(hit['_source']['Id'])\n",
    "        \n",
    "    return search[\"hits\"][\"hits\"], ids"
   ]
  },
  {
   "cell_type": "code",
   "execution_count": 8,
   "metadata": {},
   "outputs": [],
   "source": [
    "def search_by_name(name_query, client, index):\n",
    "    # Define the search query\n",
    "    search_query = Q(\n",
    "        \"multi_match\",\n",
    "        fields=[\"name^2\", \"ingredients\", \"steps\"],\n",
    "        query=name_query,\n",
    "        fuzziness=\"AUTO\"\n",
    "    )\n",
    "\n",
    "    # Create a search object\n",
    "    search = client.search(index=index, body={\"query\": search_query.to_dict()})\n",
    "\n",
    "    ids = []\n",
    "    for hit in search[\"hits\"][\"hits\"]:\n",
    "        ids.append(hit['_source']['Id'])\n",
    "        \n",
    "    return search[\"hits\"][\"hits\"], ids"
   ]
  },
  {
   "cell_type": "code",
   "execution_count": 10,
   "metadata": {},
   "outputs": [
    {
     "name": "stderr",
     "output_type": "stream",
     "text": [
      "C:\\Users\\Fastora\\AppData\\Local\\Temp\\ipykernel_20904\\3468369990.py:11: DeprecationWarning: The 'body' parameter is deprecated for the 'search' API and will be removed in a future version. Instead use API parameters directly. See https://github.com/elastic/elasticsearch-py/issues/1698 for more information\n",
      "  search = client.search(index=index, body={\"query\": search_query.to_dict()})\n"
     ]
    },
    {
     "name": "stdout",
     "output_type": "stream",
     "text": [
      "([{'_index': 'recipes', '_id': 'BgC7WIgBtjLtA0NXsH63', '_score': 36.474625, '_source': {'name': 'كباب في القلاية الهوائية', 'ingredients': 'لحم بقر مفروم لحم غنم بقدونس سماق ملح فلفل أسود البصل بقسماط السمنة', 'steps': 'في وعاء ضعي لحم البقر، ولحم الغنم، والسمنة، والبصل، والبقسماط، والبقدونس، ثم نكهي بالملح، والفلفل الأسود، والسماق. قلبي المكونات حتى تتداخل وشكلي خليط الكباب إلى أصابع. أدخلي أصابع الكباب إلى القلاية الهوائية لحوالي 10 دقائق على حرارة 180 درجة مئوية. أخرجي أصابع الكباب من القلاية الهوائية وقدميها ساخنة.', 'description': 'كباب في القلاية الهوائية ... تتعدد مميزات وإيجابيات استخدامك للقلاية الهوائية في تحضير الأطعمة، ومنها أنها تحافظ على مطبخك خالٍ من روائح القلي، وتوفر الوقت والجهد، وتساعدكِ في تحضير الأكلات بكمية زيت قليلة جداً، جربي تحضير وصفة من ', 'time': '60 دقيقة ', 'tags': 'الكباب طبخات اللحم المفروم لحم مفروم وصفات الكباب وصفات سريعة بقدونس طبخات سهلة اكلات سهله وصفات سهلة وسريعة', 'cuisine': ' عربي ', 'Id': 1}}, {'_index': 'recipes', '_id': '6wDFWIgBtjLtA0NXUKHn', '_score': 26.010513, '_source': {'name': 'بروستد بالقلاية الهوائية', 'ingredients': 'الدجاج البيض ملح فلفل أسود ثوم بودرة بابريكا بقسماط', 'steps': 'في وعاء امزجي البيض والملح والفلفل الأسود والبابريكا والثوم البودرة حتى تتداخل المكونات. أضيفي قطع الدجاج ثم قلبي المكونات حتى تتداخل وغطي الوعاء بورق نايلون لاصق وأدخليه إلى الثلاجة لحوالي الـ3 ساعات. حمي القلاية الهوائية على حرارة 200 درجة مئوية. أخرجي خليط الدجاج من الثلاجة ثم غمسي قطع الدجاج في البقسماط. صفي قطع الدجاج قي القلاية الهوائية واتركيها لحوالي الـ20 دقيقة حتى تنضج. قدمي البروستد على سفرتك إلى جانب الثومية والبطاطس.', 'description': 'بروستد بالقلاية الهوائية ... تعتبر عملية استخدام القلاية الهوائية بديلاً مثالياً لتحضير ', 'time': '60 دقيقة ', 'tags': 'طبخات الدجاج وصفات سريعة بروستد وصفات سهلة وسريعة وجبات سريعة', 'cuisine': ' غربي ', 'Id': 9190}}, {'_index': 'recipes', '_id': 'HQDGWIgBtjLtA0NXbqaW', '_score': 26.010513, '_source': {'name': 'الفلافل بالقلاية الهوائية', 'ingredients': 'حمص منقوع بقدونس الثوم الكمون ملح الكزبرة بيكربونات الصوديوم الزيت النباتي', 'steps': 'ضعي كلاً من الحمص والبقدونس في الخلاط واخلطيه حتى تحصلي على عجينة ناعمة. ضعي الحمص المطحون في وعاء ثم أضيفي الكزبرة والملح والكمون والثوم وبيكربونات الصوديوم. قومي بخلط المزيج حتى تحصلي على مزيج متجانس. ذوبي ملعقة صغيرة من بيكربونات الصوديوم (بيكنج صودا) في ملعقة صغيرة من الماء البارد مع ملعقة صغيرة من البيكنج باودر ورشة من الكزبرة الجافة. أضيفهم إلى عجينة الفلافل ثم قومي بتشكيلها على شكل أقراص دائرية. ادهني المقلاة بالقليل من الزيت بواسطة الفرشاة ويمكنك مسح الفلافل بالقليل من الزيت أيضاً بواسطة الفرشاة. اقليه بالقلاية الهوائية على درجه حرارة ٢٠٠ مئوية لمدة 5 دقائق.', 'description': 'الفلافل بالقلاية الهوائية للرجيم ... حضري وجبتك المفضلة من ', 'time': '60 دقيقة ', 'tags': 'اكلات بالحمص الفلافل بقدونس وصفات للرجيم وصفات بالثوم فطور صحي فطور صباحي', 'cuisine': ' عربي ', 'Id': 10264}}, {'_index': 'recipes', '_id': '5gDHWIgBtjLtA0NXvKrr', '_score': 26.010513, '_source': {'name': 'ذرة في القلاية الهوائية', 'ingredients': 'الذرة زيت الزيتون', 'steps': 'قومي بوضع عرانيس الذرة والزيت في وعاء وقلبي المكونات. ضعي العرانيس في القلاية الهوائية ثم ضعيها على درجة حرارة 180 مئوية لحوالي 15 دقيقة حتى تنضج الذرة.', 'description': 'ذرة في القلاية الهوائية ... ', 'time': '20 دقيقة ', 'tags': 'اكلات بالذرة أطباق جانبية مقبلات ساخنة وصفات سريعة وصفات اكل صحي وصفات سهلة وسريعة', 'cuisine': ' عربي ', 'Id': 11489}}, {'_index': 'recipes', '_id': 'DADGWIgBtjLtA0NX9aiA', '_score': 26.010513, '_source': {'name': 'كستناء بالقلاية الهوائية', 'ingredients': 'الكستناء', 'steps': 'ضعي كمية الكستناء في القلاية الهوائية بحيث تفرد جيداً في المقلى ولا يجوز أن تراكمي الكستناء فوق بعضها بل يجب فردها في القلاية لتستوي مع بعضها البعض بسرعة ومن دون إضافة زيت أو أي نوع من الدهون. قومي بعدها بإغلاق الغطاء جيداً لأن الكستناء سوف تنفجر قشورها وتخرج من المقلاة إذا لم تغطيها جيداً. قومي بتشغيل القلاية والنظر إليها عندما تخرج منها أصوات فعندما يتغير لون الكستناء من الأسفل ويتشقق وجهها قومي بتقليبهم على الوجه الثاني وتغطية المقلى من جديد. عندما تستوي الكستناء قومي بتركها في المقلاة بعد إطفاء النار حتى تبرد لأن الكستناء تحتفظ بالحرارة.', 'description': 'كستناء بالقلاية الهوائية ... جربي إعداد ', 'time': '20 دقيقة ', 'tags': 'أطباق جانبية مقبلات ساخنة وصفات سريعة وصفات اكل صحي وصفات سهلة وسريعة وصفات خفيفة الغذاء الصحي', 'cuisine': ' عربي ', 'Id': 10759}}, {'_index': 'recipes', '_id': 'lgDHWIgBtjLtA0NXGqhO', '_score': 26.010513, '_source': {'name': 'دجاجة بالقلاية الهوائية', 'ingredients': 'الدجاج زيت الزيتون ملح فلفل أسود ثوم بودرة بودرة البصل بابريكا', 'steps': 'ادهني الدجاج بزيت الزيتون جيداً وتبلي بالملح، والفلفل الأسود، وبودرة البصل، وبودرة الثوم، والبابريكا، ثم افركي الدجاج بالتوابل جيداً حتى تغطيها كاملة. ضعي الدجاج في سلة المقلاة الهوائية واضبطيها على درجة حرارة 180 مئوية لمدة 35 دقيقة حتى تنضج.\\xa0 قومي بإزالة السلة واقلبي الدجاجة واطهيها لمدة 30 دقيقة أخرى. أخرجي السلة من المقلاة الهوائية ثم اتركي الدجاج يرتاح قليلاً لحوالي 5 دقائق ثم قدميه ساخناً.', 'description': 'دجاجة بالقلاية الهوائية ...استخدام القلاية الهوائية يوفر الكثير من الجهد والوقت وتقدم لكِ الوصفات المطبوخة بطريقة سريعة وقليلة في استخدامها للزيوت، تعلمي أسهل طريقة لتحضير ', 'time': '60 دقيقة ', 'tags': 'طبخات الدجاج وصفات سريعة اكلات سريعة طبخات سهلة اكلات سهله وصفات سهلة وسريعة وجبات سريعة', 'cuisine': ' غربي ', 'Id': 10897}}, {'_index': 'recipes', '_id': '_gDHWIgBtjLtA0NXfalJ', '_score': 23.061329, '_source': {'name': 'عمل دجاج في القلاية الهوائية', 'ingredients': 'الدجاج زيت الزيتون ملح فلفل أسود ثوم بودرة بودرة البصل بابريكا', 'steps': 'إدهني الدجاج بزيت الزيتون جيداً، وتبلي بالملح، والفلفل الأسود، وبودرة البصل، وبودرة الثوم، والبابريكا ثم افركي الدجاج بالتوابل جيداً حتى تغطيها كاملة. ضعي الدجاج في سلة المقلاة الهوائية واضبطيها على درجة حرارة 180 مئوية لمدة 35 دقيقة حتى تنضج. \\xa0 قومي بإزالة السلة واقلبي الدجاجة، وإطهيها لمدة 30 دقيقة أخرى. أخرجي السلة من المقلاة الهوائية، ثم اتركي الدجاج يرتاح قليلاً لحوالي 5 دقائق، ثم قدميه ساخناً.', 'description': 'طريقة عمل دجاج في القلاية الهوائية ... وصفة لذيذة وسريعة من ', 'time': '60 دقيقة ', 'tags': 'طبخات الدجاج وصفات سريعة اكلات سريعة طبخات سهلة اكلات سهله وصفات سهلة وسريعة', 'cuisine': ' عربي ', 'Id': 11257}}, {'_index': 'recipes', '_id': 'TwDGWIgBtjLtA0NXwafZ', '_score': 23.061329, '_source': {'name': 'باذنجان مقلي بالقلاية الهوائية', 'ingredients': 'الباذنجان الثوم كزبرة خضراء ملح عصير الليمون', 'steps': 'حمّي المقلاة الهوائية على درجة حرارة 180 مئوية. ادهني درج القلاية الهوائية بالقليل من الزيت ثم ضعي شرائح الباذنجان، ثم ادهنيها بالزيت المتبقي. أغلقي درج القلاية واطهي الباذنجان من كل جهة حتى ينضج لمدة 5 دقائق. ضعي الثوم والكزبرة في مدقة الثوم، واهرسي المكونين جيداً حتى تحصلي على قوام المعجون، ثم أضيفي عصير الليمون وحركي جيداً. اسكبي مزيج الثوم على شرائح الباذنجان ووزعيها جيداً ثم قدميها.', 'description': 'باذنجان مقلي بالقلاية الهوائية ... قللي من كمية الزيوت في إعداد الأكلات والطبخات المقدمة على سفرتك، تعلمي طريقة عمل وصفة ', 'time': '20 دقيقة ', 'tags': 'طبخات الباذنجان أطباق جانبية مقبلات ساخنة وصفات خفيفة', 'cuisine': ' عربي ', 'Id': 10570}}, {'_index': 'recipes', '_id': 'CgDGWIgBtjLtA0NX9Kj3', '_score': 23.061329, '_source': {'name': 'البطاطا الحلوة بالقلاية الهوائية', 'ingredients': 'البطاطا الحلوة زيت الزيتون الفلفل الأحمر الحلو فلفل أسود أعشاب مجففة ملح شطة مجروشة', 'steps': 'في وعاء كبير الحجم، اخلطي زيت الزيتون مع الفلفل الأحمر الحلو، والفلفل الأسود، والأعشاب المجففة، والملح، والشطة المجروشة جيداً حتى تتداخل النكهات. أضيفي البطاطا الحلوة إلى وعاء المزيج السابق، واتركيها لمدة 10 دقائق حتى تتشبع البطاطا بالصلصة. شغلي القلاية الهوائية بدون إضافة لأي زيت على درجة حرارة 180 مئوية. أضيفي البطاطا لوعاء القلاية، وأدخلي البطاطا لتطهى لمدة 20 دقيقة. بعد مرور الوقت، أخرجي وعاء القلاية وفرغي البطاطا الحلوة بطبق التقديم، وقدميها ساخنة.', 'description': 'البطاطا الحلوة بالقلاية الهوائية\\xa0 ... ', 'time': '30 دقيقة ', 'tags': 'وصفات البطاطا الحلوة أطباق جانبية مقبلات ساخنة وصفات سريعة وصفات سهلة وسريعة', 'cuisine': ' عربي ', 'Id': 10757}}, {'_index': 'recipes', '_id': '1wDHWIgBtjLtA0NXK6iF', '_score': 23.061329, '_source': {'name': 'كرات البطاطس بالقلاية الهوائية', 'ingredients': 'البطاطس لحم مفروم ملح فلفل أسود الكمون بقسماط البيض طحين الزيت النباتي', 'steps': 'اسلقي البطاطس واهرسيها جيداً حتى تصبح ناعمة القوام. اخلطي البقسماط والتوابل مع البطاطس المهروسة. احشي البطاطس باللحم المفروم المعصج، ثم قومي بتشكيلها على شكل كرات صغيرة الحجم (أو بالحجم المفضل لديكِ). غمّسي الكرات في الطحين، ومن ثم في البيض، ومن ثم في البقسماط. ضعي الكرات في الفريزر لحوالي ساعة. ادهني القلاية الهوائية بالقليل من الزيت النباتي، ثم ضعي كرات البطاطس بها مع دهن الكرات بالقليل من الزيت أيضاً. شغلي القلاية على درجة حرارة 120 مئوية لحوالي 20 دقيقة، وقلبيها من وقت لآخر، ثم قدميها ساخنة.', 'description': 'كرات البطاطس بالقلاية الهوائية ... تُوفر طريقة إعداد الطعام باستخدام القلاية الهوائية الوقت، والجهد، وأيضاً تقدمي الأكلات بطريقة صحية، جربي وصفة', 'time': '60 دقيقة ', 'tags': 'طبخات اللحم المفروم أطباق البطاطس لحم مفروم وصفات البطاطا وصفات سريعة اكلات سريعة طبخات سهلة بطاطس مهروسة كرات البطاطس اكلات سهله وصفات سهلة وسريعة وصفات خفيفة', 'cuisine': ' غربي ', 'Id': 10962}}], [1, 9190, 10264, 11489, 10759, 10897, 11257, 10570, 10757, 10962])\n"
     ]
    }
   ],
   "source": [
    "result = search_by_name(\"كباب في القلاية الهوائية\", client, 'recipes')\n",
    "print(result)\n"
   ]
  },
  {
   "cell_type": "code",
   "execution_count": 9,
   "metadata": {},
   "outputs": [
    {
     "ename": "NameError",
     "evalue": "name 'search_by_tags' is not defined",
     "output_type": "error",
     "traceback": [
      "\u001b[1;31m---------------------------------------------------------------------------\u001b[0m",
      "\u001b[1;31mNameError\u001b[0m                                 Traceback (most recent call last)",
      "Cell \u001b[1;32mIn[9], line 1\u001b[0m\n\u001b[1;32m----> 1\u001b[0m result \u001b[39m=\u001b[39m search_by_tags(\u001b[39m'\u001b[39m\u001b[39mكباب في القلاية الهوائية\u001b[39m\u001b[39m'\u001b[39m, client, \u001b[39m'\u001b[39m\u001b[39mrecipes\u001b[39m\u001b[39m'\u001b[39m)\n\u001b[0;32m      2\u001b[0m \u001b[39mprint\u001b[39m(result)\n",
      "\u001b[1;31mNameError\u001b[0m: name 'search_by_tags' is not defined"
     ]
    }
   ],
   "source": [
    "result = search_by_tags('كباب في القلاية الهوائية', client, 'recipes')\n",
    "print(result)"
   ]
  }
 ],
 "metadata": {
  "kernelspec": {
   "display_name": "Python 3",
   "language": "python",
   "name": "python3"
  },
  "language_info": {
   "codemirror_mode": {
    "name": "ipython",
    "version": 3
   },
   "file_extension": ".py",
   "mimetype": "text/x-python",
   "name": "python",
   "nbconvert_exporter": "python",
   "pygments_lexer": "ipython3",
   "version": "3.9.16"
  },
  "orig_nbformat": 4
 },
 "nbformat": 4,
 "nbformat_minor": 2
}
