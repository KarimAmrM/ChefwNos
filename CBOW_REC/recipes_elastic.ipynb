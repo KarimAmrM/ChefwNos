{
 "cells": [
  {
   "cell_type": "code",
   "execution_count": 122,
   "metadata": {},
   "outputs": [
    {
     "data": {
      "text/plain": [
       "{'name': 'instance-0000000000',\n",
       " 'cluster_name': 'ff097923828f47a69856fc863b3dcaa3',\n",
       " 'cluster_uuid': 'pxX7iuB_TNOB7WKUuYai4A',\n",
       " 'version': {'number': '8.8.0',\n",
       "  'build_flavor': 'default',\n",
       "  'build_type': 'docker',\n",
       "  'build_hash': 'c01029875a091076ed42cdb3a41c10b1a9a5a20f',\n",
       "  'build_date': '2023-05-23T17:16:07.179039820Z',\n",
       "  'build_snapshot': False,\n",
       "  'lucene_version': '9.6.0',\n",
       "  'minimum_wire_compatibility_version': '7.17.0',\n",
       "  'minimum_index_compatibility_version': '7.0.0'},\n",
       " 'tagline': 'You Know, for Search'}"
      ]
     },
     "execution_count": 122,
     "metadata": {},
     "output_type": "execute_result"
    }
   ],
   "source": [
    "from elasticsearch import Elasticsearch\n",
    "from elasticsearch_dsl import Search, Q\n",
    "import pandas as pd\n",
    "# Create the client instance\n",
    "# client = Elasticsearch(\"http://localhost:9200\")\n",
    "\n",
    "# # Successful response!\n",
    "# client.info()\n",
    "\n",
    "ELASTIC_PASSWORD = \"nqWXecniTzykQWUfZpxPliLq\"\n",
    "\n",
    "# Found in the 'Manage Deployment' page\n",
    "CLOUD_ID = \"Recipes-chefWnos:ZXVyb3BlLXdlc3QzLmdjcC5jbG91ZC5lcy5pbzo0NDMkZmYwOTc5MjM4MjhmNDdhNjk4NTZmYzg2M2IzZGNhYTMkNzMwZmZkOGRjZDgxNDRhYzkwMDI1NzM0OTA0ZTM0ZGQ=\"\n",
    "\n",
    "# Create the client instance\n",
    "client = Elasticsearch(\n",
    "    cloud_id=CLOUD_ID,\n",
    "    http_auth=(\"elastic\", ELASTIC_PASSWORD)\n",
    ")\n",
    "\n",
    "# Successful response!\n",
    "client.info()"
   ]
  },
  {
   "cell_type": "code",
   "execution_count": 123,
   "metadata": {},
   "outputs": [],
   "source": [
    "recipes = pd.read_json('data/recipes_cleaned_1.json')"
   ]
  },
  {
   "cell_type": "code",
   "execution_count": 124,
   "metadata": {},
   "outputs": [],
   "source": [
    "for i, data in recipes.iterrows():\n",
    "    ing = []\n",
    "    for j in data['ingredients']:\n",
    "        ing.append(j['ingredient'])\n",
    "    data['ingredients'] = ing\n"
   ]
  },
  {
   "cell_type": "code",
   "execution_count": 16,
   "metadata": {},
   "outputs": [
    {
     "name": "stdout",
     "output_type": "stream",
     "text": [
      "<class 'pandas.core.frame.DataFrame'>\n",
      "Int64Index: 15911 entries, 0 to 15910\n",
      "Data columns (total 7 columns):\n",
      " #   Column       Non-Null Count  Dtype \n",
      "---  ------       --------------  ----- \n",
      " 0   name         15911 non-null  object\n",
      " 1   ingredients  15911 non-null  object\n",
      " 2   steps        15911 non-null  object\n",
      " 3   description  15911 non-null  object\n",
      " 4   time         15911 non-null  object\n",
      " 5   tags         15911 non-null  object\n",
      " 6   cuisine      15911 non-null  object\n",
      "dtypes: object(7)\n",
      "memory usage: 994.4+ KB\n"
     ]
    }
   ],
   "source": [
    "recipes.info()"
   ]
  },
  {
   "cell_type": "code",
   "execution_count": 125,
   "metadata": {},
   "outputs": [
    {
     "name": "stderr",
     "output_type": "stream",
     "text": [
      "C:\\Users\\Fastora\\AppData\\Local\\Temp\\ipykernel_16116\\4178635385.py:3: DeprecationWarning: Using positional arguments for APIs is deprecated and will be disabled in 8.0.0. Instead use only keyword arguments for all APIs. See https://github.com/elastic/elasticsearch-py/issues/1698 for more information\n",
      "  if client.indices.exists(index_name):\n",
      "C:\\Users\\Fastora\\AppData\\Local\\Temp\\ipykernel_16116\\4178635385.py:57: DeprecationWarning: The 'body' parameter is deprecated for the 'create' API and will be removed in a future version. Instead use API parameters directly. See https://github.com/elastic/elasticsearch-py/issues/1698 for more information\n",
      "  create_index_response = client.indices.create(index=index_name, body=index_settings)\n"
     ]
    },
    {
     "name": "stdout",
     "output_type": "stream",
     "text": [
      "{'acknowledged': True, 'shards_acknowledged': True, 'index': 'recipes'}\n"
     ]
    }
   ],
   "source": [
    "def create_index(client, index_name):\n",
    "    # Define the index settings and mappings\n",
    "    if client.indices.exists(index_name):\n",
    "        pass\n",
    "    index_settings = {\n",
    "        \"settings\": {\n",
    "            \"analysis\": {\n",
    "                \"filter\": {\n",
    "                    \"arabic_stemmer\": {\n",
    "                        \"type\": \"stemmer\",\n",
    "                        \"language\": \"arabic\"\n",
    "                    },\n",
    "                    \"arabic_stop\": {\n",
    "                        \"type\": \"stop\",\n",
    "                        \"stopwords\": \"_arabic_\"\n",
    "                    }\n",
    "                },\n",
    "                \"analyzer\": {\n",
    "                    \"rebuilt_arabic\": {\n",
    "                        \"type\": \"custom\",\n",
    "                        \"tokenizer\": \"standard\",\n",
    "                        \"filter\": [\"lowercase\", \"decimal_digit\", \"arabic_stop\", \"arabic_normalization\", \"arabic_stemmer\"]\n",
    "                    }\n",
    "                }\n",
    "            }\n",
    "        },\n",
    "        \"mappings\": {\n",
    "            \"properties\": {\n",
    "                \"Id\": {\n",
    "                    \"type\": \"long\"\n",
    "                },\n",
    "                \"name\": {\n",
    "                    \"type\": \"text\",\n",
    "                    \"analyzer\": \"rebuilt_arabic\",\n",
    "                    \"search_analyzer\": \"rebuilt_arabic\"\n",
    "                },\n",
    "                \"ingredients\": {\n",
    "                    \"type\": \"text\",\n",
    "                    \"analyzer\": \"rebuilt_arabic\",\n",
    "                    \"search_analyzer\": \"rebuilt_arabic\"\n",
    "                },\n",
    "                \"steps\": {\n",
    "                    \"type\": \"text\",\n",
    "                    \"analyzer\": \"rebuilt_arabic\",\n",
    "                    \"search_analyzer\": \"rebuilt_arabic\"\n",
    "                },\n",
    "                \"tags\": {\n",
    "                    \"type\": \"text\",\n",
    "                    \"analyzer\": \"rebuilt_arabic\",\n",
    "                    \"search_analyzer\": \"rebuilt_arabic\"\n",
    "                }\n",
    "            }\n",
    "        }\n",
    "    }\n",
    "\n",
    "    # Create the index with the specified settings and mappings\n",
    "    create_index_response = client.indices.create(index=index_name, body=index_settings)\n",
    "    return create_index_response\n",
    "# Call the function to create the index\n",
    "response = create_index(client=client, index_name=\"recipes\")\n",
    "print(response)"
   ]
  },
  {
   "cell_type": "code",
   "execution_count": 126,
   "metadata": {},
   "outputs": [],
   "source": [
    "df_recipes = recipes\n",
    "#join ingredients list to one string\n",
    "df_recipes['ingredients'] = df_recipes['ingredients'].apply(lambda x: ' '.join(x))\n",
    "#join tags list to one string\n",
    "df_recipes['tags'] = df_recipes['tags'].apply(lambda x: ' '.join(x))\n",
    "#join steps list to one string\n",
    "df_recipes['steps'] = df_recipes['steps'].apply(lambda x: ' '.join(x))\n"
   ]
  },
  {
   "cell_type": "code",
   "execution_count": 127,
   "metadata": {},
   "outputs": [],
   "source": [
    "def add_recipes(client, index, recipes):\n",
    "    #add to recipes id column from its index\n",
    "    recipes['Id'] = recipes.index\n",
    "    # Convert the dataframe to a dictionary\n",
    "    recipes_dict = recipes.to_dict(\"records\")\n",
    "    for recipe in recipes_dict:\n",
    "        # Index the dictionary of each recipe into Elasticsearch\n",
    "        resp = client.index(index=index, document=recipe)\n",
    "        if resp['result'] != 'created':\n",
    "            print(resp)\n"
   ]
  },
  {
   "cell_type": "code",
   "execution_count": 128,
   "metadata": {},
   "outputs": [],
   "source": [
    "add_recipes(client, 'recipes', df_recipes)"
   ]
  },
  {
   "cell_type": "code",
   "execution_count": 129,
   "metadata": {},
   "outputs": [],
   "source": [
    "def search_by_ingredients(ingredients_query, client, index):\n",
    "    # Define the search query\n",
    "    search_query = Q(\n",
    "        \"multi_match\",\n",
    "        fields=[\"ingredients^2\", \"name^2\", \"steps\"],\n",
    "        query=ingredients_query,\n",
    "        fuzziness=\"AUTO\"\n",
    "    )\n",
    "\n",
    "    # Create a search object\n",
    "    search = client.search(index=index, body={\"query\": search_query.to_dict()})\n",
    "\n",
    "    ids = []\n",
    "    for hit in search[\"hits\"][\"hits\"]:\n",
    "        ids.append(hit['_source']['Id'])\n",
    "        \n",
    "    return search[\"hits\"][\"hits\"], ids"
   ]
  },
  {
   "cell_type": "code",
   "execution_count": 130,
   "metadata": {},
   "outputs": [
    {
     "name": "stderr",
     "output_type": "stream",
     "text": [
      "C:\\Users\\Fastora\\AppData\\Local\\Temp\\ipykernel_16116\\3548199306.py:11: DeprecationWarning: The 'body' parameter is deprecated for the 'search' API and will be removed in a future version. Instead use API parameters directly. See https://github.com/elastic/elasticsearch-py/issues/1698 for more information\n",
      "  search = client.search(index=index, body={\"query\": search_query.to_dict()})\n"
     ]
    },
    {
     "name": "stdout",
     "output_type": "stream",
     "text": [
      "([{'_index': 'recipes', '_id': 'tgC_WIgBtjLtA0NX8I1S', '_score': 18.764229, '_source': {'name': 'الرز الأصفر بالبصل..', 'ingredients': 'الأرز مرق دجاج ملح البصل الكركم الزيت النباتي الفلفل الأخضر بهارات', 'steps': '1. يسكب الزيت في قدر توضع على نار هادئة، ويضاف له البصل المفروم، ويقلب لدقيقتين، فالأرز الذي يقلب أيضاً لدقيقتين، ثم ينثر الكركم والملح ويوضع مرق الدجاج والبهار. 2. يقلب هذا المزيج، وتغطى القدر، مع التقليب كلّ 5 دقائق حتى يجف الماء تماماً وينضج الأرز. 3. ثم، يضاف بعض الزيت في قدر نظيفة، ويقلى الفلفل الأخضر الحلو حتى يذبل، ثم يخلط بالأرز. 4. \\xa0يمكن تزيين هذا الطبق بأوراق البصل الأخصر المقطعة.', 'description': '\\n                        ', 'time': '0 دقيقة ', 'tags': 'أطباق الأرز وصفات الأرز أطباق رمضانية', 'cuisine': ' عربي ', 'Id': 4017}}, {'_index': 'recipes', '_id': 'wwC-WIgBtjLtA0NXnIh-', '_score': 15.743984, '_source': {'name': 'بطاطس مقلية مع البصل', 'ingredients': 'البطاطس البصل الزبدة زيت الزيتون بودرة الثوم أعشاب مجففة ملح فلفل أسود', 'steps': '1.\\xa0 سخني الزبدة مع زيت الزيتون في مقلاة واسعة على نار متوسطة. 2. أ ضيفي شرائح البطاطس والبصل وغطي المقلاة واتركيها لمدة 10 دقائق حتى تتحمر ثم اقلبيها على الجهة الأخرى لتتحمر من جميع الجهات. 3.\\xa0 وزعي الثوم البودرة والأعشاب والملح والفلفل الأسود وحركي المزيج حتى تختلط المكونات واتركيها على النار لمدة 5 دقائق إضافية. 4.\\xa0 قدميها ساخنة إلى جانب السلطة حسب الرغبة. سيعجبك أيضاً:', 'description': 'بطاطس مقلية مع البصل .. تعد ', 'time': '30 دقيقة ', 'tags': 'وصفات بالزبدة أطباق البطاطس مقبلات ساخنة وصفات البطاطا', 'cuisine': ' غربي ', 'Id': 2750}}, {'_index': 'recipes', '_id': 'tADIWIgBtjLtA0NXwa6s', '_score': 15.743984, '_source': {'name': 'شوربة البطاطس بالبصل', 'ingredients': 'البطاطس الجزر البصل الأخضر مرق دجاج الزبدة ملح فلفل أسود الكمون الماء', 'steps': 'ضعي البطاطس والجزر في الخلاط مع نصف كوب من المرق، واخلطي جيداً حتى يصبح ناعم القوام. في مقلاة على نار متوسطة بها الزبدة، ضعي البصل الأخضر وتبليه بالملح، والفلفل الأسود، والكمون، وقلبيه حتى يذبل. أضيفي خليط البطاطس والجزر، وقلبي جيداً وخففي النار حتى تغلي. أضيفي بعض الماء لجعل قوامها أخف. اسكبي الشوربة في صحن التقديم، وزينيها بقطع من الجزر والبصل الأخضر، وقدميها ساخنة.', 'description': 'شوربة البطاطس بالبصل ... قدمي على سفرتك وصفات ', 'time': '40 دقيقة ', 'tags': 'أطباق جانبية مقبلات ساخنة وصفات سريعة شوربة البطاطس وصفات سهلة وسريعة', 'cuisine': ' عربي ', 'Id': 12463}}, {'_index': 'recipes', '_id': 'rgDFWIgBtjLtA0NXQKGf', '_score': 15.743984, '_source': {'name': 'بطاطس حلقات بالبصل', 'ingredients': 'الزيت النباتي البصل البطاطس ملح فلفل أسود الفلفل الاحمر الحار بهارات مشكلة', 'steps': 'في قدر على حرارة متوسطة، سخّني الزيت ثمّ أضيفي شرائح البطاطس، وقلّبي البطاطس حتى تتحمّر. أضيفي البصل وقلّبي المكونات حتى تتداخل، ونكّهي بالملح، الفلفل الأسود، الفلفل الأحمر الحار والبهارات العربية المشكلة. \\xa0ضعي الغطاء وخفّفي النار، واطهي المكونات حتى تنضج بالكامل. \\xa0قدّمي الطبق ساخناً.', 'description': 'بطاطس حلقات بالبصل ... قدمي على سفرتك ', 'time': '30 دقيقة ', 'tags': 'أطباق البطاطس أطباق جانبية مقبلات ساخنة وصفات البطاطا وصفات سريعة اكلات سريعة وصفات سهلة وسريعة وجبات سريعة', 'cuisine': ' عربي ', 'Id': 9129}}, {'_index': 'recipes', '_id': '0wDDWIgBtjLtA0NXcJrR', '_score': 15.743984, '_source': {'name': 'بصل مشوي بالبطاطس', 'ingredients': 'المايونيز جبن البارميزان الثوم شطة مجروشة بابريكا ملح فلفل أسود البطاطس البصل الزيت النباتي', 'steps': 'سخني شواية الفرن على حرارة متوسطة. بطني صينية بورق الالمنيوم وادهنيها بالزيت النباتي. اخلطي المايونيز مع الجبن البارميزان والثوم والشطة المجروشة والبابريكا والملح والفلفل الأسود في طبق. ضعي البطاطس في الصينية والبصل وأضيفي خليط المايونيز والتوابل وقلبي حتى تمتزج المكونات. أدخلي الصينية للفرن لمدة 30 دقيقة حتى تتحمر البطاطس وتنضج مع البصل. قدميها ساخنة إلى جانب اللحم أو الدجاج المشوي حسب الرغبة.', 'description': 'بصل مشوي بالبطاطس .. نقدم لك من مطبخ سيدتي أطيب ', 'time': '30 دقيقة ', 'tags': 'أطباق البطاطس أطباق جانبية وصفات البطاطا صينية خضار جبنة بارميزان خضار وصفات بالثوم', 'cuisine': ' عربي ', 'Id': 7374}}, {'_index': 'recipes', '_id': 'CQDLWIgBtjLtA0NXcrkT', '_score': 15.676073, '_source': {'name': 'الرز البخاري الأصلي', 'ingredients': 'اللحم الأرز طويل الحبة البصل طماطم الجزر صلصة طماطم الكمون هيل ملح فلفل أسود الزيت النباتي مكسرات محمصة ماء ساخن زبيب', 'steps': 'انقعي الأرز لمدة 30 دقيقة واغسليه ثم صفيه. أضيفي الزيت النباتي ثم البصل في قدر على النار واقليه حتى يذبل. قومي بإضافة اللحم وقلبيه مع البصل. أضيفي الطماطم المفرومة والجزر وصلصة الطماطم وبهريها بالبهارات والملح وغطي القدر حتى تتسبك المكونات. أضيفي الأرز والماء الساخن على خليط اللحم وحركي بلطف حتى تختلط المكونات مع بعضها واتركيه حتى يغلي ثم خففي درجة الحرارة واتركيه على نار هائة حتى ينضج. قومي بسكب الرز البخاري بطبق التقديم وزينيه بالمكسرات المحمصة والزبيب وقدميه ساخناً بجانب طبق من سلطة الزبادي.', 'description': 'الرز البخاري الأصلي ... ', 'time': '60 دقيقة ', 'tags': 'الأرز البسمتي أطباق الأرز طبخات سعودية وصفات الأرز وصفات سعودية وصفات رمضان المطبخ السعودي سفرة رمضان أكلات سعودية وصفات رمضانية 2022 فطور رمضان 2022 إفطار رمضان 2022 أكلات رمضانية سهلة 2022 أكلات رمضانية جديدة 2022 طبخات رمضان 2022', 'cuisine': ' سعودي ', 'Id': 15002}}, {'_index': 'recipes', '_id': '7gDDWIgBtjLtA0NXvJtN', '_score': 14.167486, '_source': {'name': 'رز باللحمة والبطاطس والعدس', 'ingredients': 'الزبدة فيليه اللحم ملح فلفل أسود ورق غار عدس بنّي البصل البطاطس الأرز هيل', 'steps': 'سخني الزبدة في قدر على نار متوسطة وأضيفي مكعبات اللحم وقلبي جيداً ثم أضيفي البصل المفروم ناعم والهيل والملح والفلفل وورق الغار واغمري القدر بالماء واتركيه حتى يغلي ثم خففي النار وغطي القدر واتركي اللحم لمدة 45 دقيقة حتى ينضج. صفي المرق وضعي اللحم في قدر آخر وأضيفي العدس المسلوق والبطاطس والأرز وقلبي قليلاً ثم أضيفي حوالي 2 ½ كوب من المرق. اضبطي الملح والفلفل واتركي المزيج حتى يغلي ثم خففي النار وغطي القدر واتركيه على نار خفيفة لمدة 30 دقيقة حتى ينضج الأرز والبطاطس. ضعي الأرز في طبق التقديم وقدميه ساخناً.', 'description': 'رز باللحمة والبطاطس والعدس .. نقدم لك من مطبخ سيدتي أطيب ', 'time': '60 دقيقة ', 'tags': 'طبخات العدس أطباق الأرز أطباق البطاطس طبخات اللحوم وصفات الأرز وصفات البطاطا وصفات اللحوم وصفات رمضان وصفات رمضانية سهلة رمضان 2020 طبخات رمضان 2020', 'cuisine': ' عربي ', 'Id': 7657}}, {'_index': 'recipes', '_id': 'HADAWIgBtjLtA0NX2pGk', '_score': 13.958864, '_source': {'name': 'بطاطس بالتوم والبصل الأخضر', 'ingredients': 'البطاطس الثوم الزبدة ملح كريمة الطبخ البصل الأخضر الزيت النباتي', 'steps': '', 'description': 'بالتوم والبصل الأخضر .. طبق ', 'time': '0 دقيقة ', 'tags': 'أطباق البطاطس أطباق جانبية مقبلات شامية وصفات البطاطا وصفات سريعة', 'cuisine': ' عربي ', 'Id': 4887}}, {'_index': 'recipes', '_id': 'WQDIWIgBtjLtA0NXqa5N', '_score': 13.958864, '_source': {'name': 'حلقات البصل بالبطاطس والجبن', 'ingredients': 'البصل رقائق البطاطس رقائق البطاطس رقائق البطاطس جبن موزاريلا دقيق البيض لبن ملح فلفل أسود الزيت النباتي', 'steps': 'سخني الزيت في قدر على نار متوسطة. ضعي رقائق البطاطس بالملح، ورقائق البطاطس بالكريمة الحامضة والبصل، ورقائق البطاطس بالباربكيو والموزاريلا في وعاء، واخلطي المكونات حتى تتداخل. في وعاء اخلطي البيض، واللبن، والملح، والفلفل الأسود. غمسي حلقات البصل بالدقيق، والبيض، ورقائق البطاطس. اقلي حلقات البصل في الزيت حتى تصبح ذهبية اللون. صفّي حلقات البصل من الزيت، وضعيها على محارم ورقية، وقدميها ساخنة.', 'description': 'حلقات البصل بالبطاطس والجبن ... حضري أطيب وصفات ', 'time': '30 دقيقة ', 'tags': 'وصفات بالجبن أطباق جانبية جبن الموزريلا مقبلات ساخنة وصفات سريعة وصفات سهلة وسريعة وجبات سريعة', 'cuisine': ' غربي ', 'Id': 12372}}, {'_index': 'recipes', '_id': 'FQDFWIgBtjLtA0NXXKJ5', '_score': 13.958864, '_source': {'name': 'عجة البيض بالبطاطس والبصل', 'ingredients': 'البيض البطاطس زيت الزيتون البصل الزبدة الثوم ملح فلفل أسود', 'steps': 'في مقلاة كبيرة على نار متوسطة، ذوبي الزبدة وأضيفي الزيت. اقلي البصل ليصبح طرياً لحوالي 10 دقائق. أضيفي شرائح البطاطس وغطي المقلاة، واقلي لحوالي 15-20 دقيقة. في وعاء، اخفقي البيض ونكهيه بالملح والفلفل الأسود. غطي المقلاة واطهي لحوالي 15 دقيقة، ثم اقلبيها لتنضج من الجهة الثانية. قدميها ساخنة.', 'description': 'عجة البيض بالبطاطس والبصل ... ما يميز ', 'time': '30 دقيقة ', 'tags': 'وصفات البيض وصفات العجة أطباق البطاطس وصفات البطاطا خضار فطور صباحي', 'cuisine': ' عربي ', 'Id': 9232}}], [4017, 2750, 12463, 9129, 7374, 15002, 7657, 4887, 12372, 9232])\n"
     ]
    }
   ],
   "source": [
    "q = \"بطاطس رز بصل\"\n",
    "result = search_by_ingredients(q, client, 'recipes')\n",
    "print(result)"
   ]
  },
  {
   "cell_type": "code",
   "execution_count": 131,
   "metadata": {},
   "outputs": [],
   "source": [
    "ids = result[1]"
   ]
  },
  {
   "cell_type": "code",
   "execution_count": 132,
   "metadata": {},
   "outputs": [
    {
     "name": "stdout",
     "output_type": "stream",
     "text": [
      "الرز الأصفر بالبصل..\n",
      "بطاطس مقلية مع البصل\n",
      "شوربة البطاطس بالبصل\n",
      "بطاطس حلقات بالبصل\n",
      "بصل مشوي بالبطاطس\n",
      "الرز البخاري الأصلي\n",
      "رز باللحمة والبطاطس والعدس\n",
      "بطاطس بالتوم والبصل الأخضر\n",
      "حلقات البصل بالبطاطس والجبن\n",
      "عجة البيض بالبطاطس والبصل\n"
     ]
    }
   ],
   "source": [
    "for i in ids:\n",
    "    print(df_recipes.loc[df_recipes['Id'] == int(i)]['name'].values[0])"
   ]
  },
  {
   "cell_type": "code",
   "execution_count": 114,
   "metadata": {},
   "outputs": [],
   "source": [
    "def search_by_tags(tags_query, client, index):\n",
    "    # Define the search query\n",
    "    search_query = Q(\n",
    "        \"multi_match\",\n",
    "        fields=[\"tags^2\", \"name\", \"description\"],\n",
    "        query=tags_query,\n",
    "        fuzziness=\"AUTO\"\n",
    "    )\n",
    "\n",
    "    # Create a search object\n",
    "    search = client.search(index=index, body={\"query\": search_query.to_dict()})\n",
    "\n",
    "    ids = []\n",
    "    for hit in search[\"hits\"][\"hits\"]:\n",
    "        ids.append(hit['_source']['Id'])\n",
    "        \n",
    "    return search[\"hits\"][\"hits\"], ids"
   ]
  },
  {
   "cell_type": "code",
   "execution_count": 111,
   "metadata": {},
   "outputs": [],
   "source": [
    "def search_by_name(name_query, client, index):\n",
    "    # Define the search query\n",
    "    search_query = Q(\n",
    "        \"multi_match\",\n",
    "        fields=[\"name^2\", \"ingredients\", \"steps\"],\n",
    "        query=name_query,\n",
    "        fuzziness=\"AUTO\"\n",
    "    )\n",
    "\n",
    "    # Create a search object\n",
    "    search = client.search(index=index, body={\"query\": search_query.to_dict()})\n",
    "\n",
    "    ids = []\n",
    "    for hit in search[\"hits\"][\"hits\"]:\n",
    "        ids.append(hit['_source']['Id'])\n",
    "        \n",
    "    return search[\"hits\"][\"hits\"], ids"
   ]
  },
  {
   "cell_type": "code",
   "execution_count": 118,
   "metadata": {},
   "outputs": [
    {
     "name": "stdout",
     "output_type": "stream",
     "text": [
      "([{'_index': 'recipes', '_id': '4fZRWIgBKtnneZFb9ajM', '_score': 17.12885, '_source': {'name': 'باستا سريعة', 'ingredients': 'البصل طماطم الكزبرة الثوم ملح فلفل أسود الفلفل الأحمر الكمون بهارات ريحان زيت الزيتون الفطر كريمة الطبخ جبن موزاريلا صلصة طماطم', 'steps': 'اسلقي المكرونة مع الزيت والملح. في قدر نضيف الزيت الزيتون ثم نضع البصل وننتظر حتى يذبل. نضيف الثوم ومن ثم الفطر ونخلطهم جيدا ونتركه لدقيقتان لينضج الفطر. ونضيف الطماطم والكزبرة ونحرك\\xa0جيدا من ثم نضع صلصة الطماطم ونحركه جيدا ونضع البهارات وننتظر لدقيقتان على نار هادئة. ومن ثم نضيف الريحان وكريمة الطبخ ونغطي الجدر ل5دقائق ومن ثم نضيف جبن الموزريلا. ومن ثم نضيف المعكرونه الذي سلقناها. ونقدمها ساخنة.', 'description': 'باستا سريعة ... وصفة باستا شهية مقدمة من أعضاء مطبخ سيدتي جربوها\\xa0', 'time': '30 دقيقة ', 'tags': 'باستا المكرونة مكرونة معكرونة وصفات سهلة وسريعة', 'cuisine': ' إيطالي ', 'Id': 12111}}, {'_index': 'recipes', '_id': 'mvZRWIgBKtnneZFbWYI-', '_score': 17.1098, '_source': {'name': 'شوربة المكرونة بالخضار', 'ingredients': 'زيت الزيتون البصل الجزر الثوم ملح الكرفس فلفل أسود طماطم مرق دجاج بقدونس البازيلاء معكرونة جبن البارميزان', 'steps': '1.\\xa0 سخني الزيت في قدر عميق على نار متوسطة وأضيفي البصل والجزر والكرفس وقلبي لمدة 5 دقائق. 2. أ ضيفي الثوم وقلبي لمدة دقيقة. 3. أ ضيفي الملح والفلفل والبازيلا المجمدة والطماطم المقطعة والمرق واتركي المزيج حتى يبدأ بالغليان. 4. أ ضيفي المكرونة وخففي النار واتركي المزيج حتى تنضج المكرونة. 5.\\xa0 يمكنك زيادة الماء عند الحاجة. 6.\\xa0 اسكبي الشوربة في أطباق وزيني بالبقدونس المفروم وجبن البارميزان وقدميها ساخنة. سيعجبك أيضاً من أطباق الشوربة:', 'description': 'تدخل ', 'time': '60 دقيقة ', 'tags': 'المكرونة أطباق جانبية مكرونة مكرونة سريعة معكرونة مكرونة بالخضار شوربة مكرونة سهلة', 'cuisine': ' غربي ', 'Id': 2312}}, {'_index': 'recipes', '_id': 'XfZRWIgBKtnneZFb0Z1q', '_score': 17.026602, '_source': {'name': 'المعكرونة بالدجاج والهليون', 'ingredients': 'المعكرونة الهليون صدر الدجاج زيت الزيتون جبنة بارميزان ملح', 'steps': '1.\\xa0 قلبي الدجاج في مقلاة غير لاصقة حتى يستوي ويصبح لونه ذهبيا. 2.\\xa0 ضعي الهليون في طبق الفرن. 3.\\xa0 ضعي المعكرونة المسلوقة والمصفاة فوق الهليون بطبق الفرن. 4.\\xa0 أضيفي الملح وزيت الزيتون. 5.\\xa0 وزعي قطع الدجاج المقلية على الوجه. 6.\\xa0 انثري الجبنة المبشورة على الوجه وادخليه الفرن المحمى مسبقا لمدة 10 دقائق حتى تذوب الجبنة وتتحمر وقدميه ساخنا. لا تفوّتوا أبداً متابعة تطبيق \"سيدتي\" لأنه دليلكم الوحيد في الطبخ والمطبخ وحمليه الآن مجاناً\\xa0', 'description': '\\n                        ', 'time': '0 دقيقة ', 'tags': 'المكرونة مكرونة معكرونة مكرونة بالدجاج', 'cuisine': ' إيطالي ', 'Id': 9163}}, {'_index': 'recipes', '_id': 'AfZRWIgBKtnneZFb2aBv', '_score': 17.026602, '_source': {'name': 'مكرونة ايطالية بالصوص', 'ingredients': 'المعكرونة البصل صلصة طماطم ملح فلفل أسود لبن زبادي الزيت النباتي مرق خضار روزماري زعتر مجفف ريحان', 'steps': '1. في قدر على النار، نضع الزيت والبصل، ونشوح قليلاً، ثم نضيف الصلصة، ومكعب المرق، ونبهر بالملح، والفلفل، مع إضافة القليل من الماء، ونترك الصلصة حتى تتسبك قليلاً. 2. عندما تتسبك الصلصة، نضيف اللبن الزبادي، والريحان، والزعتر والروزماري، ونقلب الخليط. 3. نضيف المكرونة المسلوقة بحسب التعليمات، ونقلب بخليط الصوص، ونسكبها بطبخ التقديم، وتقدم ساخنة.', 'description': 'مكرونة ايطالية بالصوص، طريقة عمل المكرونة الايطالية\\xa0بصوص مكون من صلصة الطماطم والقشطة، وصفة مكرونه روزيه شهية وسهلة التحضير،\\xa0 قدمتها لنا عضوة مطبخ سيدتي هبة.', 'time': '30 دقيقة ', 'tags': 'المكرونة مكرونة مكرونة سريعة معكرونة', 'cuisine': ' إيطالي ', 'Id': 9839}}, {'_index': 'recipes', '_id': '3fZRWIgBKtnneZFb5aOr', '_score': 17.026602, '_source': {'name': 'مكرونة بشاميل بالبسطرمة', 'ingredients': 'معكرونة صلصة البشاميل فليفلة ملونة البسطرمة زيتون أسود الجبن الرومي جبن موزاريلا الزيت النباتي بقسماط ملح فلفل أسود', 'steps': '1. نسلق المكرونة في ماء مملح، ثم نصفيها جيداً من الماء. 2. على نار متوسطة، نسخن الزيت، ثم يضاف الفلفل الملون، مع التقليب لمدة دقيقة. 3. نضيف البسطرمة ونقلبها لمدة دقيقة، ثم يضاف الزيتون مع التقليب جيدًا، ثم يرفع الخليط عن النار، ويترك جانبًا. 4. يسخن الفرن عند درجة حرارة 180 درجة مئوية. 5. في صينية زجاجية، نضع القليل من الزيت، ثم يوضع نصف كمية البقسماط، ثم نوزع كوبًا من البشاميل في قاع الصينية. 6. يخلط كوب من البشاميل مع المكرونة، ثم توضع نصف كمية المكرونة في الصينية، ثم إضافة خليط البسطرمة. 7. نرش كمية الرومي فوق خليط البسطرمة، ثم نوزع باقي المكرونة، وفوقها باقي كمية البشاميل، ثم الموتزاريلا، ثم باقي كمية البقسماط. 8. تدخل الصينية الفرن لمدة 35 – 40 دقيقة، حتى يُصبح لونها ذهبيًّا. سيعجبك أيضاً:', 'description': 'بشاميل بالبسطرمة', 'time': '60 دقيقة ', 'tags': 'المكرونة مكرونة معكرونة مكرونة بالبشاميل', 'cuisine': ' إيطالي ', 'Id': 10827}}, {'_index': 'recipes', '_id': '2fZRWIgBKtnneZFb6KTW', '_score': 17.026602, '_source': {'name': 'مكرونة بالصلصة والأعشاب', 'ingredients': 'معكرونة زيت الزيتون الثوم صوص المعكرونة الجاهز إكليل الجبل ريحان هيل ملح فلفل أسود', 'steps': 'اسلقي المكرونة بالماء المملح بحسب التعليمات المدونة على العبوة، صفّيها واتركيها جانباً. حمّي الزيت في قدر على حرارة متوسّطة وقلّبي فيها الثوم حتى يتغيّر لونه. أضيفي صلصة الطماطم ونكّهي بالملح، الفلفل الأسود، إكليل الجبل، الريحان والهيل. قلبي المزيج من وقت إلى آخر حتى يغلي. أضيفي المكرونة\\xa0وقلّبي من جديد حتى تتداخل المكونات. قدّمي الطبق مباشرةً على سفرتك.', 'description': 'مكرونة بالصلصة والأعشاب .. قدمي على سفرتك غداء اليوم أسهل الوجبات المميزة من وصفات ', 'time': '30 دقيقة ', 'tags': 'المكرونة مكرونة مكرونة سريعة معكرونة', 'cuisine': ' إيطالي ', 'Id': 11079}}, {'_index': 'recipes', '_id': 'i_ZRWIgBKtnneZFb8acC', '_score': 17.026602, '_source': {'name': 'معكرونة باللّبن', 'ingredients': 'معكرونة الثوم ملح', 'steps': 'اسلقي المعكرونة بحسب التعليمات الواردة على العلبة، ثمّ صفيها واتركيها لتبرد. اخلطي اللبن الزبادي مع الثوم والملح في وعاء. امزجي المعكرونة مع اللبن الزبادي مباشرةً قبل التقديم.\\xa0\\xa0\\xa0\\xa0\\xa0\\xa0\\xa0\\xa0\\xa0\\xa0', 'description': '\\n                        ', 'time': '30 دقيقة ', 'tags': 'المكرونة مكرونة مكرونة سريعة معكرونة', 'cuisine': ' إيطالي ', 'Id': 11769}}, {'_index': 'recipes', '_id': 'HfZRWIgBKtnneZFb9qmD', '_score': 17.026602, '_source': {'name': 'معكرونة بالجبن', 'ingredients': 'معكرونة ملح فلفل أسود حليب جبن موزاريلا جبن الشيدر الزبدة طحين', 'steps': 'نضع المكرونة في ماء وملح على نار هادئة. نضع الطحين والزبدة على نار هادئة ثم نضع الحليب ثم نضع جبن موزاريلا وجبن شيدر ثم نخلط حتى يصبح متجانس ونضع الملح والفلفل الاسود. ثم نخرج المكرونة من الماء ونضعها في خليط الجبن ونضع على نار هادئة دقيقتان ثم نغلق النار. ثم نزينه في صحن التقديم.', 'description': '\\n                        ', 'time': '30 دقيقة ', 'tags': 'المكرونة مكرونة مكرونة سريعة معكرونة', 'cuisine': ' إيطالي ', 'Id': 12171}}, {'_index': 'recipes', '_id': '1fZRWIgBKtnneZFb_qvn', '_score': 17.026602, '_source': {'name': 'الكانولوني بالدجاج والفلفل الملون', 'ingredients': 'صدر الدجاج الزبدة المعكرونة فلفل أحمر الفلفل الأصفر الفلفل الأخضر البصل بودرة الثوم بهارات مشكلة ملح كريما سائلة جبنة الموتزاريلا القرشلة', 'steps': '', 'description': '\\n                        ', 'time': '0 دقيقة ', 'tags': 'المكرونة مكرونة معكرونة مكرونة بالدجاج', 'cuisine': ' أوروبي ', 'Id': 12867}}, {'_index': 'recipes', '_id': 'g_ZSWIgBKtnneZFbBK0O', '_score': 17.026602, '_source': {'name': 'ريغاتوني (معكرونة)', 'ingredients': 'معكرونة الفطر البروكولي كريمة الطبخ حليب السبانخ الجرجير مرق دجاج ملح البصل جبن موزاريلا', 'steps': 'نسلق المكرونة والبروكلي بعدها نصفيها ونتركهم على جنب.\\xa0\\xa0\\xa0\\xa0\\xa0\\xa0\\xa0\\xa0\\xa0\\xa0\\xa0\\xa0\\xa0\\xa0 نضع زيت في الطنجرة ونضع البصلة المقطعة ناعم ونقلبها لتذبل.\\xa0\\xa0\\xa0\\xa0\\xa0\\xa0\\xa0\\xa0 نضع كريمة الطبخ ونحركها حتى تتماسك وتثقل قليلاً عند الغليان ونخفف الحرارة. نضيف مرق الدجاج والجرجير والسبانخ والفطر المقطع شرائح في الطنجرة ونحرك دقيقتان ثم نضع جبنة الموزاريلا والمعكرونة والفطر ونحرك قليلاً ونتركهم على نار هادئة حتى يستوي السبانخ والجرجير والفطر ونحرك من فترة إلى أخرى. وإذا كانت كريمة الطبخ جامدة نضع القليل من الماء. تقدم ساخنة.', 'description': 'ريغاتوني (معكرونة) ... وصفات مكرونة مميزة على طريقة أعضاء مطبخ سيدتي، تمتعي بلذتها اليوم', 'time': '30 دقيقة ', 'tags': 'المكرونة مكرونة مكرونة سريعة معكرونة', 'cuisine': ' إيطالي ', 'Id': 13297}}], [12111, 2312, 9163, 9839, 10827, 11079, 11769, 12171, 12867, 13297])\n"
     ]
    },
    {
     "name": "stderr",
     "output_type": "stream",
     "text": [
      "C:\\Users\\Fastora\\AppData\\Local\\Temp\\ipykernel_16116\\2433964035.py:11: DeprecationWarning: The 'body' parameter is deprecated for the 'search' API and will be removed in a future version. Instead use API parameters directly. See https://github.com/elastic/elasticsearch-py/issues/1698 for more information\n",
      "  search = client.search(index=index, body={\"query\": search_query.to_dict()})\n"
     ]
    }
   ],
   "source": [
    "result = search_by_tags('سهلة مكرونة', client, 'recipes')\n",
    "print(result)"
   ]
  }
 ],
 "metadata": {
  "kernelspec": {
   "display_name": "Python 3",
   "language": "python",
   "name": "python3"
  },
  "language_info": {
   "codemirror_mode": {
    "name": "ipython",
    "version": 3
   },
   "file_extension": ".py",
   "mimetype": "text/x-python",
   "name": "python",
   "nbconvert_exporter": "python",
   "pygments_lexer": "ipython3",
   "version": "3.10.2"
  },
  "orig_nbformat": 4
 },
 "nbformat": 4,
 "nbformat_minor": 2
}
