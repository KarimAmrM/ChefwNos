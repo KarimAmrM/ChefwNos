{
 "cells": [
  {
   "cell_type": "code",
   "execution_count": 15,
   "metadata": {},
   "outputs": [],
   "source": [
    "import pandas as pd\n",
    "from ast import literal_eval\n",
    "from tqdm import tqdm"
   ]
  },
  {
   "cell_type": "code",
   "execution_count": 19,
   "metadata": {},
   "outputs": [],
   "source": [
    "recipes = pd.read_json('recipes_cleaned_1.json')"
   ]
  },
  {
   "cell_type": "code",
   "execution_count": 21,
   "metadata": {},
   "outputs": [
    {
     "data": {
      "text/plain": [
       "['الشوفان كوب ونصف',\n",
       " 'البصل 1 حبة (ًمفروم فرماً ناعما)',\n",
       " 'الثوم فص (مهروس)',\n",
       " 'الدجاج 2 صدر (مسحب ومبهر بالتوابل المفضلة / اختياري)',\n",
       " 'الكراث عود',\n",
       " 'الفطر 150 غراماً (مقطع)',\n",
       " 'الزنجبيل ربع ملعقة صغيرة',\n",
       " 'فلفل أسود نصف ملعقة صغيرة (مطحون)',\n",
       " 'ملح ملعقة صغيرة (أو بحسب الرغبة)',\n",
       " 'الزيت ملعقة صغيرة',\n",
       " 'الماء 5 اكواب',\n",
       " 'عصير الليمون 1 حبة (طازج)',\n",
       " 'كزبرة خضراء 2 ملعقة كبيرة (مفرومة / للتزيين)']"
      ]
     },
     "execution_count": 21,
     "metadata": {},
     "output_type": "execute_result"
    }
   ],
   "source": [
    "recipes['ingredients'][612]"
   ]
  },
  {
   "cell_type": "code",
   "execution_count": 20,
   "metadata": {},
   "outputs": [
    {
     "name": "stderr",
     "output_type": "stream",
     "text": [
      "100%|██████████| 15911/15911 [00:00<00:00, 18916.83it/s]\n"
     ]
    }
   ],
   "source": [
    "# Convert ingredients to list\n",
    "#ingredient column is key value pair\n",
    "for i, data in tqdm(recipes.iterrows(), total=recipes.shape[0]):\n",
    "    r_ings = []\n",
    "    for ing in data['ingredients']:\n",
    "        #quantity = ing['quantity']\n",
    "        ing = ing['ingredient']\n",
    "        #join ingredient and quantity\n",
    "        r_ings.append(ing )\n",
    "    data['ingredients'] = r_ings"
   ]
  },
  {
   "cell_type": "code",
   "execution_count": 22,
   "metadata": {},
   "outputs": [],
   "source": [
    "\n",
    "#drop all rows with missing values\n",
    "recipes = recipes.dropna()\n",
    "#drop rows with empty lists\n",
    "recipes = recipes[recipes['steps'].map(len) > 0]"
   ]
  },
  {
   "cell_type": "code",
   "execution_count": 23,
   "metadata": {},
   "outputs": [
    {
     "name": "stdout",
     "output_type": "stream",
     "text": [
      "<class 'pandas.core.frame.DataFrame'>\n",
      "Index: 15156 entries, 0 to 15910\n",
      "Data columns (total 7 columns):\n",
      " #   Column       Non-Null Count  Dtype \n",
      "---  ------       --------------  ----- \n",
      " 0   name         15156 non-null  object\n",
      " 1   ingredients  15156 non-null  object\n",
      " 2   steps        15156 non-null  object\n",
      " 3   description  15156 non-null  object\n",
      " 4   time         15156 non-null  object\n",
      " 5   tags         15156 non-null  object\n",
      " 6   cuisine      15156 non-null  object\n",
      "dtypes: object(7)\n",
      "memory usage: 947.2+ KB\n"
     ]
    }
   ],
   "source": [
    "recipes.info()"
   ]
  },
  {
   "cell_type": "code",
   "execution_count": 25,
   "metadata": {},
   "outputs": [],
   "source": [
    "for i, data in recipes.iterrows():\n",
    "    name = data['name']\n",
    "    description = data['description']\n",
    "    steps = data['steps']\n",
    "    ingredients = data['ingredients']\n",
    "    tags = data['tags']\n",
    "    cuisine = data['cuisine']\n",
    "    #Add recipe name, description, steps, ingredients, tags, cuisine to corpus\n",
    "    with open('ar_recipes_corpus.txt', 'a', encoding='utf-8') as f:\n",
    "        f.write(name + '\\n')\n",
    "        f.write(description + '\\n')\n",
    "        f.write(' '.join(steps) + '\\n')\n",
    "        f.write(' '.join(ingredients) + '\\n')\n",
    "        f.write(' '.join(tags) + '\\n')\n",
    "        f.write(cuisine + '\\n')\n",
    "        f.write('\\n')\n",
    "    "
   ]
  }
 ],
 "metadata": {
  "kernelspec": {
   "display_name": "Python 3",
   "language": "python",
   "name": "python3"
  },
  "language_info": {
   "codemirror_mode": {
    "name": "ipython",
    "version": 3
   },
   "file_extension": ".py",
   "mimetype": "text/x-python",
   "name": "python",
   "nbconvert_exporter": "python",
   "pygments_lexer": "ipython3",
   "version": "3.9.16"
  },
  "orig_nbformat": 4
 },
 "nbformat": 4,
 "nbformat_minor": 2
}
